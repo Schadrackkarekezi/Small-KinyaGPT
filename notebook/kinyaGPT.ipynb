{
  "cells": [
    {
      "cell_type": "code",
      "execution_count": 4,
      "metadata": {
        "colab": {
          "base_uri": "https://localhost:8080/"
        },
        "id": "8KWtx34nKThQ",
        "outputId": "49fe2387-0641-49f7-8d6b-5fc79ecc3eed"
      },
      "outputs": [
        {
          "name": "stdout",
          "output_type": "stream",
          "text": [
            "Drive already mounted at /content/drive; to attempt to forcibly remount, call drive.mount(\"/content/drive\", force_remount=True).\n"
          ]
        }
      ],
      "source": [
        "from google.colab import drive\n",
        "drive.mount('/content/drive')"
      ]
    },
    {
      "cell_type": "code",
      "execution_count": 5,
      "metadata": {
        "collapsed": true,
        "id": "SEGEcAwmbIUI"
      },
      "outputs": [],
      "source": [
        "import torch\n",
        "import torch.nn as nn\n",
        "import torch.nn.functional as F\n",
        "import math\n",
        "from datasets import load_dataset\n",
        "from tokenizers import Tokenizer, models, trainers, pre_tokenizers, normalizers\n",
        "from pathlib import Path\n",
        "import numpy as np\n",
        "import matplotlib.pyplot as plt"
      ]
    },
    {
      "cell_type": "markdown",
      "metadata": {
        "id": "n43g0wBW1KF_"
      },
      "source": [
        "Loading dataset from hf\n"
      ]
    },
    {
      "cell_type": "code",
      "execution_count": null,
      "metadata": {
        "id": "BaF8jflQ0-5x"
      },
      "outputs": [],
      "source": [
        "from huggingface_hub import login\n",
        "login(\"HF_TOKEN\")\n"
      ]
    },
    {
      "cell_type": "code",
      "execution_count": 7,
      "metadata": {
        "colab": {
          "base_uri": "https://localhost:8080/",
          "height": 330,
          "referenced_widgets": [
            "a8fdbf46ee8349429ed280c165e87331",
            "abe211fbce994cd3bf7f14376a1308ab",
            "c27eb72f107447fabbd0021314b40d6a",
            "46e68dc88d864d6dab46626f7de4cb83",
            "822f766ea3144ed9b24672ae527b14ea",
            "ae10f5224e0540d6b4489927b8fb0a49",
            "9a912a4e2aa8402f825cf8ca3a8f5098",
            "af890a6332624574b52c72d35758c270",
            "44223762c8434ba7ad3b4b9b68c576ad",
            "af1e9bf0cdda489db0c593e07b648661",
            "3f83f798921d4d40b2836de3c05183d5",
            "3195c3a522ec4d6ea7ddb2997104abd1",
            "ac9d27cee7824708bd2ed1745c68f920",
            "8c457c9ad77d4744852411e3fa788ad1",
            "17f038bdcc5b4635ac77861283c7a690",
            "3c97f0577f8841a38f28e9289137eccb",
            "1d77e5de23ff45949fd0397169f6bab8",
            "30d5aff61e534dcc89a075b0373a1c7f",
            "e885351faf534fd0b57809661605ea28",
            "728e6ff4e10548d9879afb33caac2b56",
            "771eda1bf9b8469d92ae45144c46e9c4",
            "8d3f392d94a34d83b981d69c4f3149b8",
            "8fc6153f2eb44660b9cda4bf2605d6f3",
            "8489a3a5f15345e99fe31af96d391d07",
            "07e658ec5ca74069875f19710e46c846",
            "5e22cfd350da4ce3920fd849e46b2113",
            "e4e26a527a604a8ea5cf6997a4e53908",
            "78168834367647d4a01f3dd4f53a4e66",
            "22832366345d4f5da035d72c0763a2a2",
            "2f3d0c8c44114f31880b04a39c5f6f42",
            "0db4643f056e4b3aaeb705a258dd5711",
            "dd7951e5603f4a1590dcf87e234159e7",
            "4cfa7e3afa6e422ab5a58ac778ba4b73"
          ]
        },
        "id": "MtwZTTlC4bxs",
        "outputId": "b6f1f232-27a7-4024-b412-afd379ee2a26"
      },
      "outputs": [
        {
          "name": "stderr",
          "output_type": "stream",
          "text": [
            "/usr/local/lib/python3.12/dist-packages/huggingface_hub/utils/_auth.py:94: UserWarning: \n",
            "The secret `HF_TOKEN` does not exist in your Colab secrets.\n",
            "To authenticate with the Hugging Face Hub, create a token in your settings tab (https://huggingface.co/settings/tokens), set it as secret in your Google Colab and restart your session.\n",
            "You will be able to reuse this secret in all of your notebooks.\n",
            "Please note that authentication is recommended but still optional to access public models or datasets.\n",
            "  warnings.warn(\n"
          ]
        },
        {
          "data": {
            "application/vnd.jupyter.widget-view+json": {
              "model_id": "a8fdbf46ee8349429ed280c165e87331",
              "version_major": 2,
              "version_minor": 0
            },
            "text/plain": [
              "README.md:   0%|          | 0.00/4.17k [00:00<?, ?B/s]"
            ]
          },
          "metadata": {},
          "output_type": "display_data"
        },
        {
          "data": {
            "application/vnd.jupyter.widget-view+json": {
              "model_id": "3195c3a522ec4d6ea7ddb2997104abd1",
              "version_major": 2,
              "version_minor": 0
            },
            "text/plain": [
              "data/train-00000-of-00001.parquet:   0%|          | 0.00/276M [00:00<?, ?B/s]"
            ]
          },
          "metadata": {},
          "output_type": "display_data"
        },
        {
          "data": {
            "application/vnd.jupyter.widget-view+json": {
              "model_id": "8fc6153f2eb44660b9cda4bf2605d6f3",
              "version_major": 2,
              "version_minor": 0
            },
            "text/plain": [
              "Generating train split:   0%|          | 0/1068161 [00:00<?, ? examples/s]"
            ]
          },
          "metadata": {},
          "output_type": "display_data"
        },
        {
          "name": "stdout",
          "output_type": "stream",
          "text": [
            "Dataset({\n",
            "    features: ['text', 'nr_words'],\n",
            "    num_rows: 1068161\n",
            "})\n",
            "{'text': 'Rayon Sports yakoze imyitozo ikomeye yitegura Sunrise FC [AMAFOTO] Ikipe ya Rayon Sports ikomeje imyitozo ikomeye yitegura umukino w’umunsi wa 18 izakiramo Sunrise FC. Robertinho avuga ko atari umukino bazajenjekera kuko ngo ubu bamaze kwiha intego yo kwitwara neza kuri buri mukino, bagahatanira igikombe nta kujenjekera ikipe iyo ariyo yose. Mu gitondo cyo kuri uyu wa Kabiri, abakinnyi ba Rayon Sports bakoreye imyotozo muri ‘Gym’, nimugoroba bakorera imyitozo yindi mu Nzove. Ni imyitozo yitabiriwe n’abakinnyi bose kuko nta n’umwe ufite imvune uretse Tuyishime Eric Congolais uri gukorera imyitozo ku ruhande kubera imvune ye itarakira neza. Rayon Sports iri kwitegura Sunrise FC bagomba guhura kuri uyu wa Gatanu tariki 1 Werurwe 2019 kuri Stade ya Kigali i Nyamirambo. Umukino ubanza wabaye tariki 1 Ugushyingo 2018, Rayon Sports yari yatsinze Sunrise FC 2-1 mu mukino Caleb yahawe ikarita itukura nyuma yo gukubita umugeri umufana wari winjiye mu kibuga. Nyuma y’imyitozo, Robertinho yaganiriye n’abanyamakuru abatangariza uko biteguye. Yemeje ko bari kwitegurana imbaraga nyinshi kuko ngo buri mukino bari kuwitaho cyane. Ati \" Turi kwitegura n’imbaraga nyinshi. Mu gitondo twakoreye muri Gym, nimugoroba dukora ibijyanye n’amayeri ndetse na tekiniki. Abakinnyi bose bakoranye imbaraga kandi bariteguye neza. Hashize ukwezi abakinnyi bakorera muri Gym mu gitondo nimugoroba tugakorera mu kibuga. Gym niyo shingiro y’imbaraga.\" Robertinho avuga ko ikibazo asigaranye ari ukugira abakinnyi bose beza b’abanyamahanga 4 (Michael Sarpong, Jonathan Da Silva, Mugheni Fabrice na Donkor Prosper) kandi asabwa gukoresha abakinnyi 3. Ati \" Ntabwo binyoroheye nk’umutoza kuko bose ni abakinnyi beza ariko turi kugerageza kubikoraho. Rayon Sports ni ikipe ikina ishaka gutsinda buri mukino ari nayo mpamvu bisaba guhitamo abakinnyi neza.\" Yakomeje avuga ko impamvu Da Silva atakinishijwe umukino wa Mukura VS ari uko yari afite ikibazo mu itako ariko ngo yamaze gukira neza. Undi umaze gukira neza ni Irambona Eric. Avuga ku buryo biteguye Sunrise FC, Robertinho yavuze ko utazaba ari umukino woroshye kuko Sunrise FC ifite abakinnyi bafite imbaraga n’ubunararibonye. Ati \" Sunrise ifite abakinnyi bafite imbaraga n’ibigango kandi bafite ubunararibonye. Ni ikipe nzi neza ari nayo mpamvu nasabye abakinnyi kwitegura n’imbaraga nyinshi uriya mukino. Tuzatanga ibyo dufite byose kuko intego yacu ni uguhatana kugera ku gikombe. Niba ushaka guhatanira igikombe, ugomba guha agaciro buri mukino. Ntabwo tuzajya tureba ngo ni Sunrise FC, ni APR,…ahubwo tugomba kwitegura buri mukino neza , tukazareba ikizavamo nyuma.\" Avuga uko yabonye Jules Ulimwengu, Robertinho yemeje ko ari rutahizamu mwiza yizeye ko azafasha Rayon Sports. Ati \" Ni umukinnyi mwiza, ni umukinnyi uzi gutsinda kandi ukunda gukora. Ni umukinnyi wihuta cyane , azadufasha. Bwa mbere', 'nr_words': 416}\n"
          ]
        }
      ],
      "source": [
        "\n",
        "\n",
        "dataset = load_dataset(\"mbazaNLP/kinyarwanda_monolingual_v01.1\", split=\"train\")\n",
        "print(dataset)\n",
        "print(dataset[0])\n"
      ]
    },
    {
      "cell_type": "code",
      "execution_count": 8,
      "metadata": {
        "colab": {
          "base_uri": "https://localhost:8080/"
        },
        "id": "sE2DE4gAIzi8",
        "outputId": "4a5f724a-a4d0-486f-f3b4-dac8b2e9dab3"
      },
      "outputs": [
        {
          "data": {
            "text/plain": [
              "(1068161, 2)"
            ]
          },
          "execution_count": 8,
          "metadata": {},
          "output_type": "execute_result"
        }
      ],
      "source": [
        "dataset.shape"
      ]
    },
    {
      "cell_type": "code",
      "execution_count": 9,
      "metadata": {
        "colab": {
          "base_uri": "https://localhost:8080/"
        },
        "id": "we3AnO7nSL-w",
        "outputId": "976563ee-4e33-46e4-86f9-7291d2b17ce4"
      },
      "outputs": [
        {
          "name": "stdout",
          "output_type": "stream",
          "text": [
            "{'text': 'Rayon Sports yakoze imyitozo ikomeye yitegura Sunrise FC [AMAFOTO] Ikipe ya Rayon Sports ikomeje imyitozo ikomeye yitegura umukino w’umunsi wa 18 izakiramo Sunrise FC. Robertinho avuga ko atari umukino bazajenjekera kuko ngo ubu bamaze kwiha intego yo kwitwara neza kuri buri mukino, bagahatanira igikombe nta kujenjekera ikipe iyo ariyo yose. Mu gitondo cyo kuri uyu wa Kabiri, abakinnyi ba Rayon Sports bakoreye imyotozo muri ‘Gym’, nimugoroba bakorera imyitozo yindi mu Nzove. Ni imyitozo yitabiriwe n’abakinnyi bose kuko nta n’umwe ufite imvune uretse Tuyishime Eric Congolais uri gukorera imyitozo ku ruhande kubera imvune ye itarakira neza. Rayon Sports iri kwitegura Sunrise FC bagomba guhura kuri uyu wa Gatanu tariki 1 Werurwe 2019 kuri Stade ya Kigali i Nyamirambo. Umukino ubanza wabaye tariki 1 Ugushyingo 2018, Rayon Sports yari yatsinze Sunrise FC 2-1 mu mukino Caleb yahawe ikarita itukura nyuma yo gukubita umugeri umufana wari winjiye mu kibuga. Nyuma y’imyitozo, Robertinho yaganiriye n’abanyamakuru abatangariza uko biteguye. Yemeje ko bari kwitegurana imbaraga nyinshi kuko ngo buri mukino bari kuwitaho cyane. Ati \" Turi kwitegura n’imbaraga nyinshi. Mu gitondo twakoreye muri Gym, nimugoroba dukora ibijyanye n’amayeri ndetse na tekiniki. Abakinnyi bose bakoranye imbaraga kandi bariteguye neza. Hashize ukwezi abakinnyi bakorera muri Gym mu gitondo nimugoroba tugakorera mu kibuga. Gym niyo shingiro y’imbaraga.\" Robertinho avuga ko ikibazo asigaranye ari ukugira abakinnyi bose beza b’abanyamahanga 4 (Michael Sarpong, Jonathan Da Silva, Mugheni Fabrice na Donkor Prosper) kandi asabwa gukoresha abakinnyi 3. Ati \" Ntabwo binyoroheye nk’umutoza kuko bose ni abakinnyi beza ariko turi kugerageza kubikoraho. Rayon Sports ni ikipe ikina ishaka gutsinda buri mukino ari nayo mpamvu bisaba guhitamo abakinnyi neza.\" Yakomeje avuga ko impamvu Da Silva atakinishijwe umukino wa Mukura VS ari uko yari afite ikibazo mu itako ariko ngo yamaze gukira neza. Undi umaze gukira neza ni Irambona Eric. Avuga ku buryo biteguye Sunrise FC, Robertinho yavuze ko utazaba ari umukino woroshye kuko Sunrise FC ifite abakinnyi bafite imbaraga n’ubunararibonye. Ati \" Sunrise ifite abakinnyi bafite imbaraga n’ibigango kandi bafite ubunararibonye. Ni ikipe nzi neza ari nayo mpamvu nasabye abakinnyi kwitegura n’imbaraga nyinshi uriya mukino. Tuzatanga ibyo dufite byose kuko intego yacu ni uguhatana kugera ku gikombe. Niba ushaka guhatanira igikombe, ugomba guha agaciro buri mukino. Ntabwo tuzajya tureba ngo ni Sunrise FC, ni APR,…ahubwo tugomba kwitegura buri mukino neza , tukazareba ikizavamo nyuma.\" Avuga uko yabonye Jules Ulimwengu, Robertinho yemeje ko ari rutahizamu mwiza yizeye ko azafasha Rayon Sports. Ati \" Ni umukinnyi mwiza, ni umukinnyi uzi gutsinda kandi ukunda gukora. Ni umukinnyi wihuta cyane , azadufasha. Bwa mbere', 'nr_words': 416}\n",
            "{'text': 'Rayon Sports yashyikirijwe umusaruro wa mbere wavuye mu bakiriya ba Radiant Nyuma y’amezi abiri y’ubufatanye hagati ya Sosiyete y’ubwishingizi ya Radiant ndetse na Rayon Sports, umusaruro wa mbere washyikirijwe Rayon Sports Ni mu birori by’ubusabane no kuganira ku masezerano y’ubufatanye ari hagati ya Rayon Sports na Radiant, byabereye muri Serena Hotel bihuza abayobozi ba Radiant, abayobozi ba Rayon Sports, abigeze kuyobora Rayon Sports, ndetse n’abayobozi b’amatsinda y’abafana. Umuyobozi wa Sosiyete ya Radiant Marc Rugenera hamwe n’abakinnyi ba Rayon Sports Muri ibi birori, abayobozi ba Radiant bafashe umwanya wo gusobanurira abakunzi ba Rayon Sports ibijyanye n’ubwishingizi bashobora gufata bikaba byakwinjira ikipe ya Rayon Sports. Gacinya Denis wahoze ayobora Rayon Sports nawe yari ahari Ku wa Gatanu tariki 10 Kanama 2018 nibwo Rayon Sports na Radinat bari basinye amasezerano y’ubufatanye, ndetse abakunzi ba Rayon Sports abahabwa Code ya AP 325 bazajya bakoresha bafata ubwishingizi, maze amafaanga angana na 15% agahita ashyirwa muri Rayon Sports. Abayobozi b’amatsinda atandukanye bahawe umwanya wo kugira icyo bavuga kuri aya masezerano Kugeza ubu, abantu barenga 480 bamaze gufata ubwishingizi muri Radiant bwinjirije Rayon Sports Milioni zirenga enye, ari nayo mafaranga ya mbere Rayon Sports yaraye ihawe hifashishijwe Sheki. Rayon Sports ishyikirizwa Sheki ya Milioni 4Frws Muhire Jean Paul umubitsi wa Rayon Sports na Muhirwa Freddy Visi Perezida wa Rayon Sports Marc Rugenera uyobora iyi sosiyete, yatangaje ko iyi ari intangiriro ariko ayo mafaranga adahagije, ahubwo ko intego ariko umwaka utaha byibura Rayon Sports yazinjiza Milioni 150 Frws binyuze mu bwishingizi. \"Ni intangiriro nziza mu mezi abiri gusa ashize dutangiye ubufatanye, ariko umwaka utaha aya mafaranga agomba kwiyongera kuko abakunzi ba Rayon Sports ni benshi kandi biteguye gukora ibyateza imbere ikipe yabo\" Ibi kandi abihurizaho na Muhirwa Freddy Visi Perezida wa Rayon Sports, watangaje ko intego ari uko abakunzi ba Rayon Sports bagomba gufata ubwishingizi bwa Miliyari mu mwaka utaha wa 2019, bikazinjiriza Rayon Sports Milioni zisaga 150 Frws. Abakunzi ba Rayon Sports bafite ibikorwa bisaba ubwishingizi bavuze ko bagiye kujya babufatira muri Radiant Muhire Jean Paul umubitsi wa Rayon Sports na Muhirwa Freddy Visi Perezida wa Rayon Sports Visi-Perezida wa Rayon Sports Muhirwa Freddy avuga ko biteguye kubyaza umusaruro ubu bufatanye Rwatubyaye Abdul, Manzi Thierry ndetse na Eric Rutanga bakinira Rayon Sports bari bitabiriye uyu muhango Eric Rutanga yashimiwe kuba ari we mukinnyi wa mbere wa Rayon Sports wafashe ubwishingizi muri Radiant PROMOTED STORIES', 'nr_words': 387}\n",
            "{'text': 'Abafite abana bavukanye ubumuga bw’ibirenge barahamagarirwa kubavuza. Nyuma y’uko bari barihebye igihe babyaraga abana bagasanga baravukanye uturenge tw’indosho, ariko kubera urwego rwiza u Rwanda rumaze kugeraho mu buvuzi by’umwihariko mu kwita no gukurikirana abana, abenshi baravuwe kandi barakira. Nubwo nta mpamvu yihariye ihari izwi ishobora gutuma umwana avukana ibirenge by’indosho, imibare y’inzego z’ubuzima yerekana ko mu Rwanda ababuvukana buri mwaka bari hagati ya 500-600. Providence Utamuriza wo mu Murenge wa Bumbogo, afite umwana w’uruhinja umaze ukwezi n’igice avutse. Avuga ko yavukanye ibirenge birebana, ku buryo akimara kubibona yahise agira impungenge ko atazigera agenda nk’abandi bana, ariko ngo nyuma yo kwitabwaho hari icyizere afite ko azakira. Ati “Kugeza uyu munsi impungenge zararangiye, kubera ko maze ibyumweru bitatu muvuza bamushyiraho igisima, ariko nkurikije uko yari yavutse uturenge tureba hejuru, kugeza uyu munsi uturenge batumanuye turareba hasi nta kibazo afite, ndishimye cyane kubona umwana wanjye ageze igihe mbona ko azagenda nk’abandi bana.” Aisha Hakizimana afite umukobwa w’imyaka itatu, avuga ko yari yaravukanye ikibazo cya Clubfoot, ariko kubera uburyo yakurikiranywe ubu umwana agenda neza. Ati “Yavukanye uturenge dusa n’uturebana, ubu arabasha gukandagira neza nta nubwo wamenya ko yigeze avukana icyo kibazo. Ikintu nishimira ni uko umwana wanjye yari yavukanye icyo kibazo, ariko kugera iyi saha akaba ameze neza.” Mu rwego rwo guhangana n’ikibazo cy’ubumuga buterwa n’uturenge tw’indosho cyugarije abatari bacye, Minisiteri y’Ubuzima ku bufatanye na Hope Walks, bamaze igihe batanga amahugurwa ku baganga bahugura abandi 16 baturutse mu bihugu byo ku mugabane wa Afurika ndetse na Amerika, hamwe n’abandi 20 b’Abanyarwanda. Jacques Nshimiyimana ni umuganga mu bitaro bya Kaminuza bya Butare, ukora ibijyanye n’ubugororangingo. Avuga ko ayo mahugurwa azabafasha kurushaho gutanga serivisi neza. Ati “Ni benshi cyane, ku buryo bisaba ko umuntu aba afite ubumenyi bwimbitse bwo kubikora kugira ngo abashe kubikora vuba kandi neza. Aya ni amahugurwa ari ku rwego mpuzamahanga, kuko n’abandi twahuguranywe ni abantu baturutse mu bindi bice byo muri Afurika, aho twumva ko bizadufasha gutanga serivisi neza kurushaho.” Nsengiyuma Emmanuel ni umuganga uvura abana bafite ubumuga. Avuga ko kubavura bisaba abaganga babizobereyemo kubera ko ubavuye nabi ushobora kurema ubundi bumuga. Ati “Ubu bumuga buravurwa bugakira, ni icyo kintu cyiza n’abantu bose bagomba kwizera, buravurwa bugakira bityo ntuzagire ubumuga buhoraho buturutse kuri biriya birenge, birushaho kuba byiza no gukira neza kandi byihuse iyo uvuwe ukiri muto, ni ubumuga tuvura abana bakivuka, nta mezi yo gutegereza. Niba ubyaye umwana ufite buriya bumuga, biba ari byiza guhita atangira kuvurwa ako kanya, mu gihe cy’amezi abiri tuba twabikosoye byarangiye.” Kugeza ubu ubwo buvuzi buri mu bitaro 13 kandi ni ubuvuzi budafite ikindi busaba kubera ko bukorana na mituweli, aho umwana yitabwaho mu gihe cy’amezi abiri, nyuma yaho agahabwa udukweto azajya yambara nijoro gusa agiye kuryama mu gihe kiri hagati y’imyaka ine ndetse n’itanu. Umunyamakuru @ lvRaheema', 'nr_words': 452}\n"
          ]
        }
      ],
      "source": [
        "print(dataset[0])\n",
        "print(dataset[1])\n",
        "print(dataset[10])"
      ]
    },
    {
      "cell_type": "code",
      "execution_count": 10,
      "metadata": {
        "colab": {
          "base_uri": "https://localhost:8080/",
          "height": 125
        },
        "id": "k3YsAIL4BNca",
        "outputId": "7f09f498-00dd-43b2-821b-9f9d7b2023a8"
      },
      "outputs": [
        {
          "data": {
            "application/vnd.google.colaboratory.intrinsic+json": {
              "type": "string"
            },
            "text/plain": [
              "'Rayon Sports yakoze imyitozo ikomeye yitegura Sunrise FC [AMAFOTO] Ikipe ya Rayon Sports ikomeje imyitozo ikomeye yitegura umukino w’umunsi wa 18 izakiramo Sunrise FC. Robertinho avuga ko atari umukino bazajenjekera kuko ngo ubu bamaze kwiha intego yo kwitwara neza kuri buri mukino, bagahatanira igikombe nta kujenjekera ikipe iyo ariyo yose. Mu gitondo cyo kuri uyu wa Kabiri, abakinnyi ba Rayon Sports bakoreye imyotozo muri ‘Gym’, nimugoroba bakorera imyitozo yindi mu Nzove. Ni imyitozo yitabiriwe n’abakinnyi bose kuko nta n’umwe ufite imvune uretse Tuyishime Eric Congolais uri gukorera imyitozo ku ruhande kubera imvune ye itarakira neza. Rayon Sports iri kwitegura Sunrise FC bagomba guhura kuri uyu wa Gatanu tariki 1 Werurwe 2019 kuri Stade ya Kigali i Nyamirambo. Umukino ubanza wabaye tariki 1 Ugushyingo 2018, Rayon Sports yari yatsinze Sunrise FC 2-1 mu mukino Caleb yahawe ikarita itukura nyuma yo gukubita umugeri umufana wari winjiye mu kibuga. Nyuma y’imyitozo, Robertinho yaganiriye n’abanyamakuru abatangariza uko biteguye. Yemeje ko bari kwitegurana imbaraga nyinshi kuko ngo buri mukino bari kuwitaho cyane. Ati \" Turi kwitegura n’imbaraga nyinshi. Mu gitondo twakoreye muri Gym, nimugoroba dukora ibijyanye n’amayeri ndetse na tekiniki. Abakinnyi bose bakoranye imbaraga kandi bariteguye neza. Hashize ukwezi abakinnyi bakorera muri Gym mu gitondo nimugoroba tugakorera mu kibuga. Gym niyo shingiro y’imbaraga.\" Robertinho avuga ko ikibazo asigaranye ari ukugira abakinnyi bose beza b’abanyamahanga 4 (Michael Sarpong, Jonathan Da Silva, Mugheni Fabrice na Donkor Prosper) kandi asabwa gukoresha abakinnyi 3. Ati \" Ntabwo binyoroheye nk’umutoza kuko bose ni abakinnyi beza ariko turi kugerageza kubikoraho. Rayon Sports ni ikipe ikina ishaka gutsinda buri mukino ari nayo mpamvu bisaba guhitamo abakinnyi neza.\" Yakomeje avuga ko impamvu Da Silva atakinishijwe umukino wa Mukura VS ari uko yari afite ikibazo mu itako ariko ngo yamaze gukira neza. Undi umaze gukira neza ni Irambona Eric. Avuga ku buryo biteguye Sunrise FC, Robertinho yavuze ko utazaba ari umukino woroshye kuko Sunrise FC ifite abakinnyi bafite imbaraga n’ubunararibonye. Ati \" Sunrise ifite abakinnyi bafite imbaraga n’ibigango kandi bafite ubunararibonye. Ni ikipe nzi neza ari nayo mpamvu nasabye abakinnyi kwitegura n’imbaraga nyinshi uriya mukino. Tuzatanga ibyo dufite byose kuko intego yacu ni uguhatana kugera ku gikombe. Niba ushaka guhatanira igikombe, ugomba guha agaciro buri mukino. Ntabwo tuzajya tureba ngo ni Sunrise FC, ni APR,…ahubwo tugomba kwitegura buri mukino neza , tukazareba ikizavamo nyuma.\" Avuga uko yabonye Jules Ulimwengu, Robertinho yemeje ko ari rutahizamu mwiza yizeye ko azafasha Rayon Sports. Ati \" Ni umukinnyi mwiza, ni umukinnyi uzi gutsinda kandi ukunda gukora. Ni umukinnyi wihuta cyane , azadufasha. Bwa mbere'"
            ]
          },
          "execution_count": 10,
          "metadata": {},
          "output_type": "execute_result"
        }
      ],
      "source": [
        "sample_text = dataset[0]['text']\n",
        "sample_text"
      ]
    },
    {
      "cell_type": "markdown",
      "metadata": {
        "id": "_MD3vMeA9VMS"
      },
      "source": [
        "Train a BPE Tokenizer from scratch"
      ]
    },
    {
      "cell_type": "code",
      "execution_count": 11,
      "metadata": {
        "id": "bguOYY-0NUxh"
      },
      "outputs": [],
      "source": [
        "def train_bpe_tokenizer(dataset, vocab_size):\n",
        "    tokenizer = Tokenizer(models.BPE(unk_token=\"<unk>\"))\n",
        "    tokenizer.normalizer = normalizers.NFKC()\n",
        "    tokenizer.pre_tokenizer = pre_tokenizers.ByteLevel(add_prefix_space=True)\n",
        "\n",
        "    trainer = trainers.BpeTrainer(\n",
        "        vocab_size=vocab_size,\n",
        "        min_frequency=2,\n",
        "        special_tokens=[\"<s>\", \"<pad>\", \"</s>\", \"<unk>\"]\n",
        "    )\n",
        "\n",
        "    def batch_iterator(batch_size=1000):\n",
        "        for i in range(0, len(dataset), batch_size):\n",
        "            yield dataset[i : i + batch_size][\"text\"]\n",
        "\n",
        "    tokenizer.train_from_iterator(batch_iterator(), trainer=trainer)\n",
        "    return tokenizer\n",
        "\n"
      ]
    },
    {
      "cell_type": "code",
      "execution_count": 12,
      "metadata": {
        "id": "x9cqUG2Wcqbh"
      },
      "outputs": [],
      "source": [
        "tokenizer = train_bpe_tokenizer(dataset, vocab_size=32000)\n"
      ]
    },
    {
      "cell_type": "code",
      "execution_count": 13,
      "metadata": {
        "colab": {
          "base_uri": "https://localhost:8080/"
        },
        "id": "_bpXKZMoiMer",
        "outputId": "4c07ca3b-8fc7-42e8-80d9-37dbb31bbcb3"
      },
      "outputs": [
        {
          "name": "stdout",
          "output_type": "stream",
          "text": [
            "Original text: Rwanda: Hatanzwe umurongo ku bibazo bya DRC. Leta y’u Rwanda mu itangazo yasohoye ku rubuga rwa interineti ibinyujije kuri Ministeri y’Ububanyi n’Amahanga, ejo ku wa 18 Gahyantare 2024 yashyize ahagar ...\n",
            "\n",
            "Tokens: ['ĠRwanda', ':', 'ĠHa', 'tanzwe', 'Ġumurongo', 'Ġku', 'Ġbibazo', 'Ġbya', 'ĠDRC', '.', 'ĠLeta', 'Ġy', 'âĢĻ', 'u', 'ĠRwanda', 'Ġmu', 'Ġitangazo', 'Ġyasohoye', 'Ġku', 'Ġrubuga', 'Ġrwa', 'Ġinterineti', 'Ġibinyujije', 'Ġkuri', 'ĠMinisteri', 'Ġy', 'âĢĻ', 'Ububanyi', 'Ġn', 'âĢĻ']\n",
            "IDs: [431, 29, 632, 2291, 2234, 224, 2525, 331, 9472, 17, 902, 302, 236, 88, 431, 226, 5313, 8754, 224, 3664, 502, 4632, 16964, 383, 16438, 302, 236, 7952, 212, 236]\n"
          ]
        }
      ],
      "source": [
        "\n",
        "sample_text = dataset[2][\"text\"]\n",
        "\n",
        "encoding = tokenizer.encode(sample_text)\n",
        "\n",
        "print(\"Original text:\", sample_text[:200], \"...\\n\")\n",
        "print(\"Tokens:\", encoding.tokens[:30])\n",
        "print(\"IDs:\", encoding.ids[:30])\n"
      ]
    },
    {
      "cell_type": "code",
      "execution_count": 14,
      "metadata": {
        "colab": {
          "base_uri": "https://localhost:8080/"
        },
        "id": "OZ6TNqHRfSS8",
        "outputId": "15a7be80-56b9-47ca-bb37-d54e18850433"
      },
      "outputs": [
        {
          "name": "stdout",
          "output_type": "stream",
          "text": [
            "Tokenizer saved at /content/drive/MyDrive/Colab Notebooks/Kinya gpt/2kinyarwanda_bpe_32k.json\n"
          ]
        }
      ],
      "source": [
        "\n",
        "save_path = \"/content/drive/MyDrive/Colab Notebooks/Kinya gpt/2kinyarwanda_bpe_32k.json\"\n",
        "tokenizer.save(save_path)\n",
        "print(f\"Tokenizer saved at {save_path}\")\n"
      ]
    },
    {
      "cell_type": "code",
      "execution_count": 15,
      "metadata": {
        "colab": {
          "base_uri": "https://localhost:8080/"
        },
        "id": "Ax35GRTgCl94",
        "outputId": "499f6c4c-9f59-4d42-fb02-830564ba28b0"
      },
      "outputs": [
        {
          "name": "stdout",
          "output_type": "stream",
          "text": [
            "Total tokens: 93,285,123\n",
            "Train tokens: 83,956,610\n",
            "Val tokens: 9,328,513\n"
          ]
        }
      ],
      "source": [
        "\n",
        "\n",
        "tok_path = \"/content/drive/MyDrive/Colab Notebooks/Kinya gpt/2kinyarwanda_bpe_32k.json\"\n",
        "tokenizer = Tokenizer.from_file(tok_path)\n",
        "\n",
        "\n",
        "dataset = dataset\n",
        "\n",
        "\n",
        "all_ids = []\n",
        "for text in dataset[\"text\"]:\n",
        "    ids = tokenizer.encode(text).ids\n",
        "    all_ids.extend(ids + [tokenizer.token_to_id(\"</s>\")])\n",
        "\n",
        "print(f\"Total tokens: {len(all_ids):,}\")\n",
        "\n",
        "all_ids = np.array(all_ids, dtype=np.int32)\n",
        "\n",
        "\n",
        "split_idx = int(0.9 * len(all_ids))\n",
        "train_ids = all_ids[:split_idx]\n",
        "val_ids = all_ids[split_idx:]\n",
        "\n",
        "print(f\"Train tokens: {len(train_ids):,}\")\n",
        "print(f\"Val tokens: {len(val_ids):,}\")\n",
        "\n"
      ]
    },
    {
      "cell_type": "markdown",
      "metadata": {
        "id": "kME4p6Y1HfYm"
      },
      "source": [
        "Creating chunks"
      ]
    },
    {
      "cell_type": "code",
      "execution_count": 16,
      "metadata": {
        "id": "-Rz7udBlHUyB"
      },
      "outputs": [],
      "source": [
        "block_size = 512\n",
        "\n",
        "def create_blocks(data, block_size):\n",
        "\n",
        "    n_blocks = len(data) // block_size\n",
        "    data = data[:n_blocks * block_size]\n",
        "    data = data.reshape(n_blocks, block_size)\n",
        "    return data\n",
        "\n",
        "train_blocks = create_blocks(train_ids, block_size)\n",
        "val_blocks   = create_blocks(val_ids, block_size)"
      ]
    },
    {
      "cell_type": "code",
      "execution_count": 17,
      "metadata": {
        "colab": {
          "base_uri": "https://localhost:8080/"
        },
        "id": "AZDJ5T_eJWI8",
        "outputId": "75cf0f27-25e9-4260-bd88-fd125592889a"
      },
      "outputs": [
        {
          "data": {
            "text/plain": [
              "array([[ 1661,  1531,  2356, ..., 21624,  1661,  1531],\n",
              "       [   17,   978,   656, ..., 17888,  7981,   321],\n",
              "       [28909,  4505, 18943, ...,   392, 16261,   327],\n",
              "       ...,\n",
              "       [ 3002,  4652,   502, ...,    15, 15377,  4346],\n",
              "       [ 1159, 21125,    15, ...,  1901,   401,   598],\n",
              "       [ 8318,   546,    29, ...,   546,    29,   465]], dtype=int32)"
            ]
          },
          "execution_count": 17,
          "metadata": {},
          "output_type": "execute_result"
        }
      ],
      "source": [
        "train_blocks"
      ]
    },
    {
      "cell_type": "code",
      "execution_count": 18,
      "metadata": {
        "colab": {
          "base_uri": "https://localhost:8080/"
        },
        "id": "SHmbyqN1HU-M",
        "outputId": "d349affd-2c0d-4e0c-cd15-d62a7b948980"
      },
      "outputs": [
        {
          "data": {
            "text/plain": [
              "array([[  236, 11833,  6753, ..., 14143,    17,   939],\n",
              "       [  250,  5143,   217, ...,  1401,  3200,  5164],\n",
              "       [15771,  5415,    29, ...,  2271,   472,  3720],\n",
              "       ...,\n",
              "       [14835,   243,  1898, ...,   245,  1889,   637],\n",
              "       [25918, 17789, 28349, ...,  2949,  3913,   309],\n",
              "       [  502,  5669,    17, ...,  3697,  6366,    17]], dtype=int32)"
            ]
          },
          "execution_count": 18,
          "metadata": {},
          "output_type": "execute_result"
        }
      ],
      "source": [
        "val_blocks"
      ]
    },
    {
      "cell_type": "code",
      "execution_count": 19,
      "metadata": {
        "colab": {
          "base_uri": "https://localhost:8080/",
          "height": 125
        },
        "id": "1eQdyPY1JhgD",
        "outputId": "35e62536-44e4-4ece-dc8a-0f0e4cd30966"
      },
      "outputs": [
        {
          "data": {
            "application/vnd.google.colaboratory.intrinsic+json": {
              "type": "string"
            },
            "text/plain": [
              "'.  Ati  \"  Ni  umukinnyi  mwiza ,  ni  umukinnyi  uzi  gutsinda  kandi  ukunda  gukora .  Ni  umukinnyi  wihuta  cyane  ,  azadufasha .  Bwa  mbere  Rayon  Sports  yashyikirijwe  umusaruro  wa  mbere  wavuye  mu  bakiriya  ba  Radi ant  Nyuma  y âĢĻ amezi  abiri  y âĢĻ ubufatanye  hagati  ya  Sosiyete  y âĢĻ ubwishingizi  ya  Radi ant  ndetse  na  Rayon  Sports ,  umusaruro  wa  mbere  wa shyikirijwe  Rayon  Sports  Ni  mu  birori  by âĢĻ ubusa bane  no  kuganira  ku  masezerano  y âĢĻ ubufatanye  ari  hagati  ya  Rayon  Sports  na  Radi ant ,  byabereye  muri  Serena  Hotel  bihuza  abayobozi  ba  Radi ant ,  abayobozi  ba  Rayon  Sports ,  abi geze  kuyobora  Rayon  Sports ,  ndetse  n âĢĻ abayobozi  b âĢĻ amatsinda  y âĢĻ abafana .  Umuyobozi  wa  Sosiyete  ya  Radi ant  Marc  Ru genera  hamwe  n âĢĻ abakinnyi  ba  Rayon  Sports  Muri  ibi  birori ,  abayobozi  ba  Radi ant  bafashe  umwanya  wo  gusobanurira  abakunzi  ba  Rayon  Sports  ibijyanye  n âĢĻ ubwishingizi  bashobora  gufata  bikaba  bya kwinjira  ikipe  ya  Rayon  Sports .  Ga cinya  Denis  wahoze  ayobora  Rayon  Sports  nawe  yari  ahari  Ku  wa  Gatanu  tariki  10  Kanama  2018  nibwo  Rayon  Sports  na  Ra d ina t  bari  basinye  amasezerano  y âĢĻ ubufatanye ,  ndetse  abakunzi  ba  Rayon  Sports  aba habwa  Co de  ya  AP  3 25  bazajya  bakoresha  bafata  ubwishingizi ,  maze  ama fa anga  angana  na  15 %  agahita  ashyirwa  muri  Rayon  Sports .  Abayobozi  b âĢĻ amatsinda  atandukanye  bahawe  umwanya  wo  kugira  icyo  bavuga  kuri  aya  masezerano  Kugeza  ubu ,  abantu  barenga  480  bamaze  gufata  ubwishingizi  muri  Radi ant  bw inji rije  Rayon  Sports  Mili oni  zirenga  enye ,  ari  nayo  mafaranga  ya  mbere  Rayon  Sports  yaraye  iha we  hifashishijwe  She ki .  Rayon  Sports  i shyikirizwa  She ki  ya  Mili oni  4 Frw s  Muhire  Jean  Paul  umu bitsi  wa  Rayon  Sports  na  Muhirwa  Fre ddy  Visi  Perezida  wa  Rayon  Sports  Marc  Ru genera  uyobora  iyi  sosiyete ,  yatangaje  ko  iyi  ari  intangiriro  ariko  ayo  mafaranga  adahagije ,  ahubwo  ko  intego  ariko  umwaka  utaha  byibura  Rayon  Sports  ya z injiza  Mili oni  150  Frw s  binyuze  mu  bwishingizi .  \" Ni  intangiriro  nziza  mu  mezi  abiri  gusa  ashize  dutangiye  ubufatanye ,  ariko  umwaka  utaha  aya  mafaranga  agomba  kwiyongera  kuko  abakunzi  ba  Rayon  Sports  ni  benshi  kandi  biteguye  gukora  ibya teza  imbere  ikipe  yabo \"  Ibi  kandi  abi huriza ho  na  Muhirwa  Fre ddy  Visi  Perezida  wa  Rayon  Sports ,  watangaje  ko  intego  ari  uko  abakunzi  ba  Rayon  Sports  bagomba  gufata  ubwishingizi  bwa  Miliyari  mu  mwaka  utaha  wa  2019 ,  bika z injiriza  Rayon  Sports  Mili oni  zisaga  150  Frw s .  Abakunzi  ba  Rayon  Sports  bafite  ibikorwa  bisaba  ubwishingizi  bavuze  ko  bagiye  kujya  babu fatira  muri  Radi ant  Muhire  Jean  Paul  umu bitsi  wa  Rayon  Sports  na  Muhirwa  Fre ddy  Visi  Perezida  wa  Rayon  Sports  Visi - Perezida  wa  Rayon  Sports  Muhirwa  Fre ddy  avuga  ko  biteguye  kubyaza  umusaruro  ubu  bufatanye  Rwatubyaye  Abdul ,  Manzi  Thierry  ndetse  na  Eric  Rutanga  bakinira  Rayon  Sports  bari  bitabiriye  uyu  muhango  Eric  Rutanga  ya shimiwe  kuba  ari  we  mukinnyi  wa  mbere  wa  Rayon  Sports  wafashe  ubwishingizi  muri'"
            ]
          },
          "execution_count": 19,
          "metadata": {},
          "output_type": "execute_result"
        }
      ],
      "source": [
        "decoded_text = tokenizer.decode(train_blocks[1].tolist())\n",
        "decoded_text.replace(\"Ġ\", \" \")\n",
        "\n"
      ]
    },
    {
      "cell_type": "markdown",
      "metadata": {
        "id": "FWT4Xfi0NtFL"
      },
      "source": [
        "Dataset & Dataloaders x and y"
      ]
    },
    {
      "cell_type": "code",
      "execution_count": 20,
      "metadata": {
        "id": "_DVEsNzzNeeg"
      },
      "outputs": [],
      "source": [
        "from torch.utils.data import DataLoader, TensorDataset\n",
        "\n",
        "def make_dataset(data):\n",
        "    x = data[:, :-1]\n",
        "    y = data[:, 1:]\n",
        "    return TensorDataset(torch.from_numpy(x), torch.from_numpy(y))\n",
        "\n",
        "train_dataset = make_dataset(train_blocks)\n",
        "val_dataset   = make_dataset(val_blocks)\n",
        "\n",
        "train_loader = DataLoader(train_dataset, batch_size=32, shuffle=True)\n",
        "val_loader   = DataLoader(val_dataset, batch_size=32)"
      ]
    },
    {
      "cell_type": "code",
      "execution_count": 21,
      "metadata": {
        "colab": {
          "base_uri": "https://localhost:8080/"
        },
        "id": "l-rjDpL-Nkb3",
        "outputId": "60d16cea-cbdf-4a61-a6b8-0ea4a847810e"
      },
      "outputs": [
        {
          "data": {
            "text/plain": [
              "(tensor([[  955,    34,   660,  ..., 15951, 24590,  2422],\n",
              "         [ 1418,  9657,   245,  ...,    17,  4836,    15],\n",
              "         [  368,   341,  1103,  ...,  8298,   226,  5094],\n",
              "         ...,\n",
              "         [ 1262, 20293,    76,  ...,  1263,   321,   518],\n",
              "         [20329, 11905,   277,  ...,  6524,   208,    10],\n",
              "         [  233,  3650, 29828,  ...,   662,  3294,   664]], dtype=torch.int32),\n",
              " tensor([[   34,   660,  8712,  ..., 24590,  2422,   226],\n",
              "         [ 9657,   245, 25064,  ...,  4836,    15, 15665],\n",
              "         [  341,  1103,  2306,  ...,   226,  5094, 25061],\n",
              "         ...,\n",
              "         [20293,    76,   817,  ...,   321,   518,   243],\n",
              "         [11905,   277,  1320,  ...,   208,    10, 25994],\n",
              "         [ 3650, 29828,    15,  ...,  3294,   664,   272]], dtype=torch.int32))"
            ]
          },
          "execution_count": 21,
          "metadata": {},
          "output_type": "execute_result"
        }
      ],
      "source": [
        "x, y = next(iter(train_loader))\n",
        "x, y"
      ]
    },
    {
      "cell_type": "markdown",
      "metadata": {
        "id": "NYgGD1gELpuE"
      },
      "source": [
        "Training GPT from Scratch"
      ]
    },
    {
      "cell_type": "code",
      "execution_count": 22,
      "metadata": {
        "id": "LpSaGvhJKxw3"
      },
      "outputs": [],
      "source": [
        "class GPTConfig:\n",
        "    vocab_size = 32000\n",
        "    block_size = 512\n",
        "    n_embd = 512\n",
        "    n_layer = 6\n",
        "    n_head = 8\n",
        "    dropout = 0.1\n"
      ]
    },
    {
      "cell_type": "markdown",
      "metadata": {
        "id": "NgbHGhiFL3oe"
      },
      "source": [
        "Model"
      ]
    },
    {
      "cell_type": "code",
      "execution_count": 23,
      "metadata": {
        "id": "vup3KlBGLz_d"
      },
      "outputs": [],
      "source": [
        "class GPT(nn.Module):\n",
        "    def __init__(self, config):\n",
        "        super().__init__()\n",
        "        self.config = config\n",
        "\n",
        "        self.token_emb = nn.Embedding(config.vocab_size, config.n_embd)\n",
        "        self.pos_emb   = nn.Embedding(config.block_size, config.n_embd)\n",
        "\n",
        "        encoder_layer = nn.TransformerEncoderLayer(\n",
        "            d_model=config.n_embd,\n",
        "            nhead=config.n_head,\n",
        "            dim_feedforward=4 * config.n_embd,\n",
        "            activation=\"gelu\",\n",
        "            batch_first=True,\n",
        "            dropout=config.dropout\n",
        "        )\n",
        "        self.transformer = nn.TransformerEncoder(encoder_layer, num_layers=config.n_layer)\n",
        "\n",
        "        self.ln_f = nn.LayerNorm(config.n_embd)\n",
        "        self.head = nn.Linear(config.n_embd, config.vocab_size, bias=False)\n",
        "\n",
        "        self.drop = nn.Dropout(config.dropout)\n",
        "\n",
        "    def forward(self, idx, targets=None):\n",
        "        B, T = idx.shape\n",
        "        assert T <= self.config.block_size, \"Sequence too long!\"\n",
        "\n",
        "        tok_emb = self.token_emb(idx)\n",
        "        pos_emb = self.pos_emb(torch.arange(T, device=idx.device))\n",
        "        x = tok_emb + pos_emb\n",
        "\n",
        "        x = self.drop(x)\n",
        "\n",
        "        mask = torch.triu(torch.ones(T, T, device=idx.device), diagonal=1).bool()\n",
        "        x = self.transformer(x, mask=mask)\n",
        "\n",
        "        x = self.ln_f(x)\n",
        "        logits = self.head(x)\n",
        "\n",
        "        loss = None\n",
        "        if targets is not None:\n",
        "            loss = F.cross_entropy(\n",
        "                logits.view(-1, logits.size(-1)),\n",
        "                targets.view(-1)\n",
        "            )\n",
        "\n",
        "        return logits, loss\n"
      ]
    },
    {
      "cell_type": "markdown",
      "metadata": {
        "id": "7ELZtrriMVTM"
      },
      "source": [
        "Training Loop"
      ]
    },
    {
      "cell_type": "code",
      "execution_count": 24,
      "metadata": {
        "colab": {
          "base_uri": "https://localhost:8080/",
          "height": 1000
        },
        "id": "XxhDnz1hL51W",
        "outputId": "9d1a88ec-a613-4073-9e73-d9b063f375c8"
      },
      "outputs": [
        {
          "name": "stdout",
          "output_type": "stream",
          "text": [
            "Training...\n",
            "Epoch 1 | Step 100/5125 | Avg Train Loss: 8.1940\n",
            "Epoch 1 | Step 200/5125 | Avg Train Loss: 7.8031\n",
            "Epoch 1 | Step 300/5125 | Avg Train Loss: 7.5507\n",
            "Epoch 1 | Step 400/5125 | Avg Train Loss: 7.3543\n",
            "Epoch 1 | Step 500/5125 | Avg Train Loss: 7.1923\n",
            "Epoch 1 | Step 600/5125 | Avg Train Loss: 7.0527\n",
            "Epoch 1 | Step 700/5125 | Avg Train Loss: 6.9349\n",
            "Epoch 1 | Step 800/5125 | Avg Train Loss: 6.8314\n",
            "Epoch 1 | Step 900/5125 | Avg Train Loss: 6.7395\n",
            "Epoch 1 | Step 1000/5125 | Avg Train Loss: 6.6569\n",
            "Epoch 1 | Step 1100/5125 | Avg Train Loss: 6.5821\n",
            "Epoch 1 | Step 1200/5125 | Avg Train Loss: 6.5138\n",
            "Epoch 1 | Step 1300/5125 | Avg Train Loss: 6.4512\n",
            "Epoch 1 | Step 1400/5125 | Avg Train Loss: 6.3921\n",
            "Epoch 1 | Step 1500/5125 | Avg Train Loss: 6.3369\n",
            "Epoch 1 | Step 1600/5125 | Avg Train Loss: 6.2859\n",
            "Epoch 1 | Step 1700/5125 | Avg Train Loss: 6.2373\n",
            "Epoch 1 | Step 1800/5125 | Avg Train Loss: 6.1921\n",
            "Epoch 1 | Step 1900/5125 | Avg Train Loss: 6.1496\n",
            "Epoch 1 | Step 2000/5125 | Avg Train Loss: 6.1083\n",
            "Epoch 1 | Step 2100/5125 | Avg Train Loss: 6.0696\n",
            "Epoch 1 | Step 2200/5125 | Avg Train Loss: 6.0330\n",
            "Epoch 1 | Step 2300/5125 | Avg Train Loss: 5.9978\n",
            "Epoch 1 | Step 2400/5125 | Avg Train Loss: 5.9645\n",
            "Epoch 1 | Step 2500/5125 | Avg Train Loss: 5.9322\n",
            "Epoch 1 | Step 2600/5125 | Avg Train Loss: 5.9012\n",
            "Epoch 1 | Step 2700/5125 | Avg Train Loss: 5.8719\n",
            "Epoch 1 | Step 2800/5125 | Avg Train Loss: 5.8433\n",
            "Epoch 1 | Step 2900/5125 | Avg Train Loss: 5.8162\n",
            "Epoch 1 | Step 3000/5125 | Avg Train Loss: 5.7902\n",
            "Epoch 1 | Step 3100/5125 | Avg Train Loss: 5.7649\n",
            "Epoch 1 | Step 3200/5125 | Avg Train Loss: 5.7403\n",
            "Epoch 1 | Step 3300/5125 | Avg Train Loss: 5.7168\n",
            "Epoch 1 | Step 3400/5125 | Avg Train Loss: 5.6943\n",
            "Epoch 1 | Step 3500/5125 | Avg Train Loss: 5.6725\n",
            "Epoch 1 | Step 3600/5125 | Avg Train Loss: 5.6515\n",
            "Epoch 1 | Step 3700/5125 | Avg Train Loss: 5.6310\n",
            "Epoch 1 | Step 3800/5125 | Avg Train Loss: 5.6111\n",
            "Epoch 1 | Step 3900/5125 | Avg Train Loss: 5.5920\n",
            "Epoch 1 | Step 4000/5125 | Avg Train Loss: 5.5733\n",
            "Epoch 1 | Step 4100/5125 | Avg Train Loss: 5.5554\n",
            "Epoch 1 | Step 4200/5125 | Avg Train Loss: 5.5375\n",
            "Epoch 1 | Step 4300/5125 | Avg Train Loss: 5.5204\n",
            "Epoch 1 | Step 4400/5125 | Avg Train Loss: 5.5039\n",
            "Epoch 1 | Step 4500/5125 | Avg Train Loss: 5.4876\n",
            "Epoch 1 | Step 4600/5125 | Avg Train Loss: 5.4719\n",
            "Epoch 1 | Step 4700/5125 | Avg Train Loss: 5.4567\n",
            "Epoch 1 | Step 4800/5125 | Avg Train Loss: 5.4416\n",
            "Epoch 1 | Step 4900/5125 | Avg Train Loss: 5.4270\n",
            "Epoch 1 | Step 5000/5125 | Avg Train Loss: 5.4127\n",
            "Epoch 1 | Step 5100/5125 | Avg Train Loss: 5.3985\n",
            "Epoch 1/8 | Train Loss: 5.3950 | Val Loss: 4.5995\n",
            "Epoch 2 | Step 100/5125 | Avg Train Loss: 4.6380\n",
            "Epoch 2 | Step 200/5125 | Avg Train Loss: 4.6351\n",
            "Epoch 2 | Step 300/5125 | Avg Train Loss: 4.6314\n",
            "Epoch 2 | Step 400/5125 | Avg Train Loss: 4.6284\n",
            "Epoch 2 | Step 500/5125 | Avg Train Loss: 4.6225\n",
            "Epoch 2 | Step 600/5125 | Avg Train Loss: 4.6174\n",
            "Epoch 2 | Step 700/5125 | Avg Train Loss: 4.6135\n",
            "Epoch 2 | Step 800/5125 | Avg Train Loss: 4.6111\n",
            "Epoch 2 | Step 900/5125 | Avg Train Loss: 4.6064\n",
            "Epoch 2 | Step 1000/5125 | Avg Train Loss: 4.6029\n",
            "Epoch 2 | Step 1100/5125 | Avg Train Loss: 4.5993\n",
            "Epoch 2 | Step 1200/5125 | Avg Train Loss: 4.5957\n",
            "Epoch 2 | Step 1300/5125 | Avg Train Loss: 4.5916\n",
            "Epoch 2 | Step 1400/5125 | Avg Train Loss: 4.5881\n",
            "Epoch 2 | Step 1500/5125 | Avg Train Loss: 4.5844\n",
            "Epoch 2 | Step 1600/5125 | Avg Train Loss: 4.5813\n",
            "Epoch 2 | Step 1700/5125 | Avg Train Loss: 4.5771\n",
            "Epoch 2 | Step 1800/5125 | Avg Train Loss: 4.5738\n",
            "Epoch 2 | Step 1900/5125 | Avg Train Loss: 4.5701\n",
            "Epoch 2 | Step 2000/5125 | Avg Train Loss: 4.5659\n",
            "Epoch 2 | Step 2100/5125 | Avg Train Loss: 4.5622\n",
            "Epoch 2 | Step 2200/5125 | Avg Train Loss: 4.5588\n",
            "Epoch 2 | Step 2300/5125 | Avg Train Loss: 4.5550\n",
            "Epoch 2 | Step 2400/5125 | Avg Train Loss: 4.5515\n",
            "Epoch 2 | Step 2500/5125 | Avg Train Loss: 4.5480\n",
            "Epoch 2 | Step 2600/5125 | Avg Train Loss: 4.5447\n",
            "Epoch 2 | Step 2700/5125 | Avg Train Loss: 4.5415\n",
            "Epoch 2 | Step 2800/5125 | Avg Train Loss: 4.5379\n",
            "Epoch 2 | Step 2900/5125 | Avg Train Loss: 4.5346\n",
            "Epoch 2 | Step 3000/5125 | Avg Train Loss: 4.5317\n",
            "Epoch 2 | Step 3100/5125 | Avg Train Loss: 4.5282\n",
            "Epoch 2 | Step 3200/5125 | Avg Train Loss: 4.5248\n",
            "Epoch 2 | Step 3300/5125 | Avg Train Loss: 4.5213\n",
            "Epoch 2 | Step 3400/5125 | Avg Train Loss: 4.5178\n",
            "Epoch 2 | Step 3500/5125 | Avg Train Loss: 4.5144\n",
            "Epoch 2 | Step 3600/5125 | Avg Train Loss: 4.5110\n",
            "Epoch 2 | Step 3700/5125 | Avg Train Loss: 4.5074\n",
            "Epoch 2 | Step 3800/5125 | Avg Train Loss: 4.5039\n",
            "Epoch 2 | Step 3900/5125 | Avg Train Loss: 4.5008\n",
            "Epoch 2 | Step 4000/5125 | Avg Train Loss: 4.4979\n",
            "Epoch 2 | Step 4100/5125 | Avg Train Loss: 4.4947\n",
            "Epoch 2 | Step 4200/5125 | Avg Train Loss: 4.4914\n",
            "Epoch 2 | Step 4300/5125 | Avg Train Loss: 4.4884\n",
            "Epoch 2 | Step 4400/5125 | Avg Train Loss: 4.4853\n",
            "Epoch 2 | Step 4500/5125 | Avg Train Loss: 4.4824\n",
            "Epoch 2 | Step 4600/5125 | Avg Train Loss: 4.4796\n",
            "Epoch 2 | Step 4700/5125 | Avg Train Loss: 4.4768\n",
            "Epoch 2 | Step 4800/5125 | Avg Train Loss: 4.4737\n",
            "Epoch 2 | Step 4900/5125 | Avg Train Loss: 4.4709\n",
            "Epoch 2 | Step 5000/5125 | Avg Train Loss: 4.4677\n",
            "Epoch 2 | Step 5100/5125 | Avg Train Loss: 4.4648\n",
            "Epoch 2/8 | Train Loss: 4.4640 | Val Loss: 4.2048\n",
            "Epoch 3 | Step 100/5125 | Avg Train Loss: 4.2415\n",
            "Epoch 3 | Step 200/5125 | Avg Train Loss: 4.2527\n",
            "Epoch 3 | Step 300/5125 | Avg Train Loss: 4.2543\n",
            "Epoch 3 | Step 400/5125 | Avg Train Loss: 4.2543\n",
            "Epoch 3 | Step 500/5125 | Avg Train Loss: 4.2519\n",
            "Epoch 3 | Step 600/5125 | Avg Train Loss: 4.2516\n",
            "Epoch 3 | Step 700/5125 | Avg Train Loss: 4.2513\n",
            "Epoch 3 | Step 800/5125 | Avg Train Loss: 4.2481\n",
            "Epoch 3 | Step 900/5125 | Avg Train Loss: 4.2473\n",
            "Epoch 3 | Step 1000/5125 | Avg Train Loss: 4.2465\n",
            "Epoch 3 | Step 1100/5125 | Avg Train Loss: 4.2459\n",
            "Epoch 3 | Step 1200/5125 | Avg Train Loss: 4.2442\n",
            "Epoch 3 | Step 1300/5125 | Avg Train Loss: 4.2422\n",
            "Epoch 3 | Step 1400/5125 | Avg Train Loss: 4.2404\n",
            "Epoch 3 | Step 1500/5125 | Avg Train Loss: 4.2402\n",
            "Epoch 3 | Step 1600/5125 | Avg Train Loss: 4.2388\n",
            "Epoch 3 | Step 1700/5125 | Avg Train Loss: 4.2382\n",
            "Epoch 3 | Step 1800/5125 | Avg Train Loss: 4.2373\n",
            "Epoch 3 | Step 1900/5125 | Avg Train Loss: 4.2361\n",
            "Epoch 3 | Step 2000/5125 | Avg Train Loss: 4.2354\n",
            "Epoch 3 | Step 2100/5125 | Avg Train Loss: 4.2340\n",
            "Epoch 3 | Step 2200/5125 | Avg Train Loss: 4.2337\n",
            "Epoch 3 | Step 2300/5125 | Avg Train Loss: 4.2316\n",
            "Epoch 3 | Step 2400/5125 | Avg Train Loss: 4.2306\n",
            "Epoch 3 | Step 2500/5125 | Avg Train Loss: 4.2295\n",
            "Epoch 3 | Step 2600/5125 | Avg Train Loss: 4.2289\n",
            "Epoch 3 | Step 2700/5125 | Avg Train Loss: 4.2278\n",
            "Epoch 3 | Step 2800/5125 | Avg Train Loss: 4.2265\n",
            "Epoch 3 | Step 2900/5125 | Avg Train Loss: 4.2253\n",
            "Epoch 3 | Step 3000/5125 | Avg Train Loss: 4.2243\n",
            "Epoch 3 | Step 3100/5125 | Avg Train Loss: 4.2231\n",
            "Epoch 3 | Step 3200/5125 | Avg Train Loss: 4.2215\n",
            "Epoch 3 | Step 3300/5125 | Avg Train Loss: 4.2205\n",
            "Epoch 3 | Step 3400/5125 | Avg Train Loss: 4.2192\n",
            "Epoch 3 | Step 3500/5125 | Avg Train Loss: 4.2176\n",
            "Epoch 3 | Step 3600/5125 | Avg Train Loss: 4.2166\n",
            "Epoch 3 | Step 3700/5125 | Avg Train Loss: 4.2153\n",
            "Epoch 3 | Step 3800/5125 | Avg Train Loss: 4.2144\n",
            "Epoch 3 | Step 3900/5125 | Avg Train Loss: 4.2134\n",
            "Epoch 3 | Step 4000/5125 | Avg Train Loss: 4.2123\n",
            "Epoch 3 | Step 4100/5125 | Avg Train Loss: 4.2111\n",
            "Epoch 3 | Step 4200/5125 | Avg Train Loss: 4.2102\n",
            "Epoch 3 | Step 4300/5125 | Avg Train Loss: 4.2087\n",
            "Epoch 3 | Step 4400/5125 | Avg Train Loss: 4.2075\n",
            "Epoch 3 | Step 4500/5125 | Avg Train Loss: 4.2061\n",
            "Epoch 3 | Step 4600/5125 | Avg Train Loss: 4.2049\n",
            "Epoch 3 | Step 4700/5125 | Avg Train Loss: 4.2035\n",
            "Epoch 3 | Step 4800/5125 | Avg Train Loss: 4.2020\n",
            "Epoch 3 | Step 4900/5125 | Avg Train Loss: 4.2007\n",
            "Epoch 3 | Step 5000/5125 | Avg Train Loss: 4.1996\n",
            "Epoch 3 | Step 5100/5125 | Avg Train Loss: 4.1983\n",
            "Epoch 3/8 | Train Loss: 4.1980 | Val Loss: 4.0221\n",
            "Epoch 4 | Step 100/5125 | Avg Train Loss: 4.0553\n",
            "Epoch 4 | Step 200/5125 | Avg Train Loss: 4.0638\n",
            "Epoch 4 | Step 300/5125 | Avg Train Loss: 4.0695\n",
            "Epoch 4 | Step 400/5125 | Avg Train Loss: 4.0717\n",
            "Epoch 4 | Step 500/5125 | Avg Train Loss: 4.0730\n",
            "Epoch 4 | Step 600/5125 | Avg Train Loss: 4.0725\n",
            "Epoch 4 | Step 700/5125 | Avg Train Loss: 4.0747\n",
            "Epoch 4 | Step 800/5125 | Avg Train Loss: 4.0743\n",
            "Epoch 4 | Step 900/5125 | Avg Train Loss: 4.0724\n",
            "Epoch 4 | Step 1000/5125 | Avg Train Loss: 4.0726\n",
            "Epoch 4 | Step 1100/5125 | Avg Train Loss: 4.0731\n",
            "Epoch 4 | Step 1200/5125 | Avg Train Loss: 4.0733\n",
            "Epoch 4 | Step 1300/5125 | Avg Train Loss: 4.0739\n",
            "Epoch 4 | Step 1400/5125 | Avg Train Loss: 4.0733\n",
            "Epoch 4 | Step 1500/5125 | Avg Train Loss: 4.0717\n",
            "Epoch 4 | Step 1600/5125 | Avg Train Loss: 4.0707\n",
            "Epoch 4 | Step 1700/5125 | Avg Train Loss: 4.0709\n",
            "Epoch 4 | Step 1800/5125 | Avg Train Loss: 4.0701\n",
            "Epoch 4 | Step 1900/5125 | Avg Train Loss: 4.0700\n",
            "Epoch 4 | Step 2000/5125 | Avg Train Loss: 4.0704\n",
            "Epoch 4 | Step 2100/5125 | Avg Train Loss: 4.0701\n",
            "Epoch 4 | Step 2200/5125 | Avg Train Loss: 4.0693\n",
            "Epoch 4 | Step 2300/5125 | Avg Train Loss: 4.0685\n",
            "Epoch 4 | Step 2400/5125 | Avg Train Loss: 4.0684\n",
            "Epoch 4 | Step 2500/5125 | Avg Train Loss: 4.0682\n",
            "Epoch 4 | Step 2600/5125 | Avg Train Loss: 4.0680\n",
            "Epoch 4 | Step 2700/5125 | Avg Train Loss: 4.0680\n",
            "Epoch 4 | Step 2800/5125 | Avg Train Loss: 4.0675\n",
            "Epoch 4 | Step 2900/5125 | Avg Train Loss: 4.0674\n",
            "Epoch 4 | Step 3000/5125 | Avg Train Loss: 4.0671\n",
            "Epoch 4 | Step 3100/5125 | Avg Train Loss: 4.0670\n",
            "Epoch 4 | Step 3200/5125 | Avg Train Loss: 4.0662\n",
            "Epoch 4 | Step 3300/5125 | Avg Train Loss: 4.0655\n",
            "Epoch 4 | Step 3400/5125 | Avg Train Loss: 4.0649\n",
            "Epoch 4 | Step 3500/5125 | Avg Train Loss: 4.0646\n",
            "Epoch 4 | Step 3600/5125 | Avg Train Loss: 4.0641\n",
            "Epoch 4 | Step 3700/5125 | Avg Train Loss: 4.0635\n",
            "Epoch 4 | Step 3800/5125 | Avg Train Loss: 4.0631\n",
            "Epoch 4 | Step 3900/5125 | Avg Train Loss: 4.0627\n",
            "Epoch 4 | Step 4000/5125 | Avg Train Loss: 4.0620\n",
            "Epoch 4 | Step 4100/5125 | Avg Train Loss: 4.0612\n",
            "Epoch 4 | Step 4200/5125 | Avg Train Loss: 4.0610\n",
            "Epoch 4 | Step 4300/5125 | Avg Train Loss: 4.0605\n",
            "Epoch 4 | Step 4400/5125 | Avg Train Loss: 4.0603\n",
            "Epoch 4 | Step 4500/5125 | Avg Train Loss: 4.0593\n",
            "Epoch 4 | Step 4600/5125 | Avg Train Loss: 4.0590\n",
            "Epoch 4 | Step 4700/5125 | Avg Train Loss: 4.0584\n",
            "Epoch 4 | Step 4800/5125 | Avg Train Loss: 4.0578\n",
            "Epoch 4 | Step 4900/5125 | Avg Train Loss: 4.0573\n",
            "Epoch 4 | Step 5000/5125 | Avg Train Loss: 4.0566\n",
            "Epoch 4 | Step 5100/5125 | Avg Train Loss: 4.0561\n",
            "Epoch 4/8 | Train Loss: 4.0559 | Val Loss: 3.9239\n",
            "Epoch 5 | Step 100/5125 | Avg Train Loss: 3.9625\n",
            "Epoch 5 | Step 200/5125 | Avg Train Loss: 3.9666\n",
            "Epoch 5 | Step 300/5125 | Avg Train Loss: 3.9652\n",
            "Epoch 5 | Step 400/5125 | Avg Train Loss: 3.9650\n",
            "Epoch 5 | Step 500/5125 | Avg Train Loss: 3.9623\n",
            "Epoch 5 | Step 600/5125 | Avg Train Loss: 3.9651\n",
            "Epoch 5 | Step 700/5125 | Avg Train Loss: 3.9682\n",
            "Epoch 5 | Step 800/5125 | Avg Train Loss: 3.9689\n",
            "Epoch 5 | Step 900/5125 | Avg Train Loss: 3.9698\n",
            "Epoch 5 | Step 1000/5125 | Avg Train Loss: 3.9700\n",
            "Epoch 5 | Step 1100/5125 | Avg Train Loss: 3.9694\n",
            "Epoch 5 | Step 1200/5125 | Avg Train Loss: 3.9706\n",
            "Epoch 5 | Step 1300/5125 | Avg Train Loss: 3.9694\n",
            "Epoch 5 | Step 1400/5125 | Avg Train Loss: 3.9695\n",
            "Epoch 5 | Step 1500/5125 | Avg Train Loss: 3.9695\n",
            "Epoch 5 | Step 1600/5125 | Avg Train Loss: 3.9692\n",
            "Epoch 5 | Step 1700/5125 | Avg Train Loss: 3.9688\n",
            "Epoch 5 | Step 1800/5125 | Avg Train Loss: 3.9689\n",
            "Epoch 5 | Step 1900/5125 | Avg Train Loss: 3.9694\n",
            "Epoch 5 | Step 2000/5125 | Avg Train Loss: 3.9695\n",
            "Epoch 5 | Step 2100/5125 | Avg Train Loss: 3.9690\n",
            "Epoch 5 | Step 2200/5125 | Avg Train Loss: 3.9690\n",
            "Epoch 5 | Step 2300/5125 | Avg Train Loss: 3.9693\n",
            "Epoch 5 | Step 2400/5125 | Avg Train Loss: 3.9693\n",
            "Epoch 5 | Step 2500/5125 | Avg Train Loss: 3.9696\n",
            "Epoch 5 | Step 2600/5125 | Avg Train Loss: 3.9698\n",
            "Epoch 5 | Step 2700/5125 | Avg Train Loss: 3.9696\n",
            "Epoch 5 | Step 2800/5125 | Avg Train Loss: 3.9695\n",
            "Epoch 5 | Step 2900/5125 | Avg Train Loss: 3.9697\n",
            "Epoch 5 | Step 3000/5125 | Avg Train Loss: 3.9699\n",
            "Epoch 5 | Step 3100/5125 | Avg Train Loss: 3.9702\n",
            "Epoch 5 | Step 3200/5125 | Avg Train Loss: 3.9696\n",
            "Epoch 5 | Step 3300/5125 | Avg Train Loss: 3.9694\n",
            "Epoch 5 | Step 3400/5125 | Avg Train Loss: 3.9696\n",
            "Epoch 5 | Step 3500/5125 | Avg Train Loss: 3.9693\n",
            "Epoch 5 | Step 3600/5125 | Avg Train Loss: 3.9689\n",
            "Epoch 5 | Step 3700/5125 | Avg Train Loss: 3.9687\n",
            "Epoch 5 | Step 3800/5125 | Avg Train Loss: 3.9689\n",
            "Epoch 5 | Step 3900/5125 | Avg Train Loss: 3.9687\n",
            "Epoch 5 | Step 4000/5125 | Avg Train Loss: 3.9685\n",
            "Epoch 5 | Step 4100/5125 | Avg Train Loss: 3.9681\n",
            "Epoch 5 | Step 4200/5125 | Avg Train Loss: 3.9680\n",
            "Epoch 5 | Step 4300/5125 | Avg Train Loss: 3.9681\n",
            "Epoch 5 | Step 4400/5125 | Avg Train Loss: 3.9677\n",
            "Epoch 5 | Step 4500/5125 | Avg Train Loss: 3.9677\n",
            "Epoch 5 | Step 4600/5125 | Avg Train Loss: 3.9676\n",
            "Epoch 5 | Step 4700/5125 | Avg Train Loss: 3.9674\n",
            "Epoch 5 | Step 4800/5125 | Avg Train Loss: 3.9667\n",
            "Epoch 5 | Step 4900/5125 | Avg Train Loss: 3.9664\n",
            "Epoch 5 | Step 5000/5125 | Avg Train Loss: 3.9662\n",
            "Epoch 5 | Step 5100/5125 | Avg Train Loss: 3.9655\n",
            "Epoch 5/8 | Train Loss: 3.9654 | Val Loss: 3.8584\n",
            "Epoch 6 | Step 100/5125 | Avg Train Loss: 3.8952\n",
            "Epoch 6 | Step 200/5125 | Avg Train Loss: 3.8890\n",
            "Epoch 6 | Step 300/5125 | Avg Train Loss: 3.8919\n",
            "Epoch 6 | Step 400/5125 | Avg Train Loss: 3.8958\n",
            "Epoch 6 | Step 500/5125 | Avg Train Loss: 3.8947\n",
            "Epoch 6 | Step 600/5125 | Avg Train Loss: 3.8964\n",
            "Epoch 6 | Step 700/5125 | Avg Train Loss: 3.8961\n",
            "Epoch 6 | Step 800/5125 | Avg Train Loss: 3.8964\n",
            "Epoch 6 | Step 900/5125 | Avg Train Loss: 3.8979\n",
            "Epoch 6 | Step 1000/5125 | Avg Train Loss: 3.9001\n",
            "Epoch 6 | Step 1100/5125 | Avg Train Loss: 3.9003\n",
            "Epoch 6 | Step 1200/5125 | Avg Train Loss: 3.9005\n",
            "Epoch 6 | Step 1300/5125 | Avg Train Loss: 3.9022\n",
            "Epoch 6 | Step 1400/5125 | Avg Train Loss: 3.9035\n",
            "Epoch 6 | Step 1500/5125 | Avg Train Loss: 3.9036\n",
            "Epoch 6 | Step 1600/5125 | Avg Train Loss: 3.9029\n",
            "Epoch 6 | Step 1700/5125 | Avg Train Loss: 3.9020\n",
            "Epoch 6 | Step 1800/5125 | Avg Train Loss: 3.9027\n",
            "Epoch 6 | Step 1900/5125 | Avg Train Loss: 3.9031\n",
            "Epoch 6 | Step 2000/5125 | Avg Train Loss: 3.9030\n",
            "Epoch 6 | Step 2100/5125 | Avg Train Loss: 3.9038\n",
            "Epoch 6 | Step 2200/5125 | Avg Train Loss: 3.9036\n",
            "Epoch 6 | Step 2300/5125 | Avg Train Loss: 3.9037\n",
            "Epoch 6 | Step 2400/5125 | Avg Train Loss: 3.9037\n",
            "Epoch 6 | Step 2500/5125 | Avg Train Loss: 3.9036\n",
            "Epoch 6 | Step 2600/5125 | Avg Train Loss: 3.9039\n",
            "Epoch 6 | Step 2700/5125 | Avg Train Loss: 3.9035\n",
            "Epoch 6 | Step 2800/5125 | Avg Train Loss: 3.9033\n",
            "Epoch 6 | Step 2900/5125 | Avg Train Loss: 3.9038\n",
            "Epoch 6 | Step 3000/5125 | Avg Train Loss: 3.9039\n",
            "Epoch 6 | Step 3100/5125 | Avg Train Loss: 3.9038\n",
            "Epoch 6 | Step 3200/5125 | Avg Train Loss: 3.9034\n",
            "Epoch 6 | Step 3300/5125 | Avg Train Loss: 3.9031\n",
            "Epoch 6 | Step 3400/5125 | Avg Train Loss: 3.9034\n",
            "Epoch 6 | Step 3500/5125 | Avg Train Loss: 3.9035\n",
            "Epoch 6 | Step 3600/5125 | Avg Train Loss: 3.9037\n",
            "Epoch 6 | Step 3700/5125 | Avg Train Loss: 3.9034\n",
            "Epoch 6 | Step 3800/5125 | Avg Train Loss: 3.9032\n",
            "Epoch 6 | Step 3900/5125 | Avg Train Loss: 3.9031\n",
            "Epoch 6 | Step 4000/5125 | Avg Train Loss: 3.9031\n",
            "Epoch 6 | Step 4100/5125 | Avg Train Loss: 3.9029\n",
            "Epoch 6 | Step 4200/5125 | Avg Train Loss: 3.9029\n",
            "Epoch 6 | Step 4300/5125 | Avg Train Loss: 3.9026\n",
            "Epoch 6 | Step 4400/5125 | Avg Train Loss: 3.9021\n",
            "Epoch 6 | Step 4500/5125 | Avg Train Loss: 3.9024\n",
            "Epoch 6 | Step 4600/5125 | Avg Train Loss: 3.9025\n",
            "Epoch 6 | Step 4700/5125 | Avg Train Loss: 3.9021\n",
            "Epoch 6 | Step 4800/5125 | Avg Train Loss: 3.9021\n",
            "Epoch 6 | Step 4900/5125 | Avg Train Loss: 3.9019\n",
            "Epoch 6 | Step 5000/5125 | Avg Train Loss: 3.9017\n",
            "Epoch 6 | Step 5100/5125 | Avg Train Loss: 3.9013\n",
            "Epoch 6/8 | Train Loss: 3.9012 | Val Loss: 3.8089\n",
            "Epoch 7 | Step 100/5125 | Avg Train Loss: 3.8406\n",
            "Epoch 7 | Step 200/5125 | Avg Train Loss: 3.8451\n",
            "Epoch 7 | Step 300/5125 | Avg Train Loss: 3.8459\n",
            "Epoch 7 | Step 400/5125 | Avg Train Loss: 3.8446\n",
            "Epoch 7 | Step 500/5125 | Avg Train Loss: 3.8438\n",
            "Epoch 7 | Step 600/5125 | Avg Train Loss: 3.8423\n",
            "Epoch 7 | Step 700/5125 | Avg Train Loss: 3.8435\n",
            "Epoch 7 | Step 800/5125 | Avg Train Loss: 3.8438\n",
            "Epoch 7 | Step 900/5125 | Avg Train Loss: 3.8430\n",
            "Epoch 7 | Step 1000/5125 | Avg Train Loss: 3.8452\n",
            "Epoch 7 | Step 1100/5125 | Avg Train Loss: 3.8462\n",
            "Epoch 7 | Step 1200/5125 | Avg Train Loss: 3.8466\n",
            "Epoch 7 | Step 1300/5125 | Avg Train Loss: 3.8474\n",
            "Epoch 7 | Step 1400/5125 | Avg Train Loss: 3.8493\n",
            "Epoch 7 | Step 1500/5125 | Avg Train Loss: 3.8497\n",
            "Epoch 7 | Step 1600/5125 | Avg Train Loss: 3.8500\n",
            "Epoch 7 | Step 1700/5125 | Avg Train Loss: 3.8499\n",
            "Epoch 7 | Step 1800/5125 | Avg Train Loss: 3.8494\n",
            "Epoch 7 | Step 1900/5125 | Avg Train Loss: 3.8492\n",
            "Epoch 7 | Step 2000/5125 | Avg Train Loss: 3.8493\n",
            "Epoch 7 | Step 2100/5125 | Avg Train Loss: 3.8488\n",
            "Epoch 7 | Step 2200/5125 | Avg Train Loss: 3.8487\n",
            "Epoch 7 | Step 2300/5125 | Avg Train Loss: 3.8486\n",
            "Epoch 7 | Step 2400/5125 | Avg Train Loss: 3.8487\n",
            "Epoch 7 | Step 2500/5125 | Avg Train Loss: 3.8492\n",
            "Epoch 7 | Step 2600/5125 | Avg Train Loss: 3.8490\n",
            "Epoch 7 | Step 2700/5125 | Avg Train Loss: 3.8490\n",
            "Epoch 7 | Step 2800/5125 | Avg Train Loss: 3.8493\n",
            "Epoch 7 | Step 2900/5125 | Avg Train Loss: 3.8492\n",
            "Epoch 7 | Step 3000/5125 | Avg Train Loss: 3.8494\n",
            "Epoch 7 | Step 3100/5125 | Avg Train Loss: 3.8501\n",
            "Epoch 7 | Step 3200/5125 | Avg Train Loss: 3.8508\n",
            "Epoch 7 | Step 3300/5125 | Avg Train Loss: 3.8507\n",
            "Epoch 7 | Step 3400/5125 | Avg Train Loss: 3.8509\n",
            "Epoch 7 | Step 3500/5125 | Avg Train Loss: 3.8511\n",
            "Epoch 7 | Step 3600/5125 | Avg Train Loss: 3.8512\n",
            "Epoch 7 | Step 3700/5125 | Avg Train Loss: 3.8514\n",
            "Epoch 7 | Step 3800/5125 | Avg Train Loss: 3.8517\n",
            "Epoch 7 | Step 3900/5125 | Avg Train Loss: 3.8518\n",
            "Epoch 7 | Step 4000/5125 | Avg Train Loss: 3.8519\n",
            "Epoch 7 | Step 4100/5125 | Avg Train Loss: 3.8519\n",
            "Epoch 7 | Step 4200/5125 | Avg Train Loss: 3.8522\n",
            "Epoch 7 | Step 4300/5125 | Avg Train Loss: 3.8523\n",
            "Epoch 7 | Step 4400/5125 | Avg Train Loss: 3.8523\n",
            "Epoch 7 | Step 4500/5125 | Avg Train Loss: 3.8524\n",
            "Epoch 7 | Step 4600/5125 | Avg Train Loss: 3.8526\n",
            "Epoch 7 | Step 4700/5125 | Avg Train Loss: 3.8521\n",
            "Epoch 7 | Step 4800/5125 | Avg Train Loss: 3.8522\n",
            "Epoch 7 | Step 4900/5125 | Avg Train Loss: 3.8520\n",
            "Epoch 7 | Step 5000/5125 | Avg Train Loss: 3.8519\n",
            "Epoch 7 | Step 5100/5125 | Avg Train Loss: 3.8517\n",
            "Epoch 7/8 | Train Loss: 3.8518 | Val Loss: 3.7715\n",
            "Epoch 8 | Step 100/5125 | Avg Train Loss: 3.7725\n",
            "Epoch 8 | Step 200/5125 | Avg Train Loss: 3.7795\n",
            "Epoch 8 | Step 300/5125 | Avg Train Loss: 3.7787\n",
            "Epoch 8 | Step 400/5125 | Avg Train Loss: 3.7873\n",
            "Epoch 8 | Step 500/5125 | Avg Train Loss: 3.7905\n",
            "Epoch 8 | Step 600/5125 | Avg Train Loss: 3.7897\n",
            "Epoch 8 | Step 700/5125 | Avg Train Loss: 3.7894\n",
            "Epoch 8 | Step 800/5125 | Avg Train Loss: 3.7906\n",
            "Epoch 8 | Step 900/5125 | Avg Train Loss: 3.7927\n",
            "Epoch 8 | Step 1000/5125 | Avg Train Loss: 3.7942\n",
            "Epoch 8 | Step 1100/5125 | Avg Train Loss: 3.7954\n",
            "Epoch 8 | Step 1200/5125 | Avg Train Loss: 3.7964\n",
            "Epoch 8 | Step 1300/5125 | Avg Train Loss: 3.7979\n",
            "Epoch 8 | Step 1400/5125 | Avg Train Loss: 3.7984\n",
            "Epoch 8 | Step 1500/5125 | Avg Train Loss: 3.7986\n",
            "Epoch 8 | Step 1600/5125 | Avg Train Loss: 3.8000\n",
            "Epoch 8 | Step 1700/5125 | Avg Train Loss: 3.8007\n",
            "Epoch 8 | Step 1800/5125 | Avg Train Loss: 3.8017\n",
            "Epoch 8 | Step 1900/5125 | Avg Train Loss: 3.8024\n",
            "Epoch 8 | Step 2000/5125 | Avg Train Loss: 3.8030\n",
            "Epoch 8 | Step 2100/5125 | Avg Train Loss: 3.8034\n",
            "Epoch 8 | Step 2200/5125 | Avg Train Loss: 3.8039\n",
            "Epoch 8 | Step 2300/5125 | Avg Train Loss: 3.8048\n",
            "Epoch 8 | Step 2400/5125 | Avg Train Loss: 3.8053\n",
            "Epoch 8 | Step 2500/5125 | Avg Train Loss: 3.8059\n",
            "Epoch 8 | Step 2600/5125 | Avg Train Loss: 3.8069\n",
            "Epoch 8 | Step 2700/5125 | Avg Train Loss: 3.8076\n",
            "Epoch 8 | Step 2800/5125 | Avg Train Loss: 3.8076\n",
            "Epoch 8 | Step 2900/5125 | Avg Train Loss: 3.8082\n",
            "Epoch 8 | Step 3000/5125 | Avg Train Loss: 3.8086\n",
            "Epoch 8 | Step 3100/5125 | Avg Train Loss: 3.8090\n",
            "Epoch 8 | Step 3200/5125 | Avg Train Loss: 3.8092\n",
            "Epoch 8 | Step 3300/5125 | Avg Train Loss: 3.8094\n",
            "Epoch 8 | Step 3400/5125 | Avg Train Loss: 3.8096\n",
            "Epoch 8 | Step 3500/5125 | Avg Train Loss: 3.8100\n",
            "Epoch 8 | Step 3600/5125 | Avg Train Loss: 3.8106\n",
            "Epoch 8 | Step 3700/5125 | Avg Train Loss: 3.8110\n",
            "Epoch 8 | Step 3800/5125 | Avg Train Loss: 3.8111\n",
            "Epoch 8 | Step 3900/5125 | Avg Train Loss: 3.8111\n",
            "Epoch 8 | Step 4000/5125 | Avg Train Loss: 3.8110\n",
            "Epoch 8 | Step 4100/5125 | Avg Train Loss: 3.8113\n",
            "Epoch 8 | Step 4200/5125 | Avg Train Loss: 3.8114\n",
            "Epoch 8 | Step 4300/5125 | Avg Train Loss: 3.8117\n",
            "Epoch 8 | Step 4400/5125 | Avg Train Loss: 3.8119\n",
            "Epoch 8 | Step 4500/5125 | Avg Train Loss: 3.8121\n",
            "Epoch 8 | Step 4600/5125 | Avg Train Loss: 3.8122\n",
            "Epoch 8 | Step 4700/5125 | Avg Train Loss: 3.8123\n",
            "Epoch 8 | Step 4800/5125 | Avg Train Loss: 3.8123\n",
            "Epoch 8 | Step 4900/5125 | Avg Train Loss: 3.8122\n",
            "Epoch 8 | Step 5000/5125 | Avg Train Loss: 3.8122\n",
            "Epoch 8 | Step 5100/5125 | Avg Train Loss: 3.8122\n",
            "Epoch 8/8 | Train Loss: 3.8121 | Val Loss: 3.7463\n"
          ]
        },
        {
          "ename": "RuntimeError",
          "evalue": "Parent directory /content/drive/MyDrive/Colab Notebooks/Kinya_gpt does not exist.",
          "output_type": "error",
          "traceback": [
            "\u001b[0;31m---------------------------------------------------------------------------\u001b[0m",
            "\u001b[0;31mRuntimeError\u001b[0m                              Traceback (most recent call last)",
            "\u001b[0;32m/tmp/ipython-input-3399971214.py\u001b[0m in \u001b[0;36m<cell line: 0>\u001b[0;34m()\u001b[0m\n\u001b[1;32m     47\u001b[0m \u001b[0;34m\u001b[0m\u001b[0m\n\u001b[1;32m     48\u001b[0m \u001b[0mfinal_path\u001b[0m \u001b[0;34m=\u001b[0m \u001b[0msave_dir\u001b[0m \u001b[0;34m+\u001b[0m \u001b[0;34mf\"2KinyaMiniGpt{num_epochs}.pt\"\u001b[0m\u001b[0;34m\u001b[0m\u001b[0;34m\u001b[0m\u001b[0m\n\u001b[0;32m---> 49\u001b[0;31m torch.save({\n\u001b[0m\u001b[1;32m     50\u001b[0m     \u001b[0;34m\"epoch\"\u001b[0m\u001b[0;34m:\u001b[0m \u001b[0mnum_epochs\u001b[0m\u001b[0;34m,\u001b[0m\u001b[0;34m\u001b[0m\u001b[0;34m\u001b[0m\u001b[0m\n\u001b[1;32m     51\u001b[0m     \u001b[0;34m\"model_state_dict\"\u001b[0m\u001b[0;34m:\u001b[0m \u001b[0mmodel\u001b[0m\u001b[0;34m.\u001b[0m\u001b[0mstate_dict\u001b[0m\u001b[0;34m(\u001b[0m\u001b[0;34m)\u001b[0m\u001b[0;34m,\u001b[0m\u001b[0;34m\u001b[0m\u001b[0;34m\u001b[0m\u001b[0m\n",
            "\u001b[0;32m/usr/local/lib/python3.12/dist-packages/torch/serialization.py\u001b[0m in \u001b[0;36msave\u001b[0;34m(obj, f, pickle_module, pickle_protocol, _use_new_zipfile_serialization, _disable_byteorder_record)\u001b[0m\n\u001b[1;32m    964\u001b[0m \u001b[0;34m\u001b[0m\u001b[0m\n\u001b[1;32m    965\u001b[0m     \u001b[0;32mif\u001b[0m \u001b[0m_use_new_zipfile_serialization\u001b[0m\u001b[0;34m:\u001b[0m\u001b[0;34m\u001b[0m\u001b[0;34m\u001b[0m\u001b[0m\n\u001b[0;32m--> 966\u001b[0;31m         \u001b[0;32mwith\u001b[0m \u001b[0m_open_zipfile_writer\u001b[0m\u001b[0;34m(\u001b[0m\u001b[0mf\u001b[0m\u001b[0;34m)\u001b[0m \u001b[0;32mas\u001b[0m \u001b[0mopened_zipfile\u001b[0m\u001b[0;34m:\u001b[0m\u001b[0;34m\u001b[0m\u001b[0;34m\u001b[0m\u001b[0m\n\u001b[0m\u001b[1;32m    967\u001b[0m             _save(\n\u001b[1;32m    968\u001b[0m                 \u001b[0mobj\u001b[0m\u001b[0;34m,\u001b[0m\u001b[0;34m\u001b[0m\u001b[0;34m\u001b[0m\u001b[0m\n",
            "\u001b[0;32m/usr/local/lib/python3.12/dist-packages/torch/serialization.py\u001b[0m in \u001b[0;36m_open_zipfile_writer\u001b[0;34m(name_or_buffer)\u001b[0m\n\u001b[1;32m    826\u001b[0m     \u001b[0;32melse\u001b[0m\u001b[0;34m:\u001b[0m\u001b[0;34m\u001b[0m\u001b[0;34m\u001b[0m\u001b[0m\n\u001b[1;32m    827\u001b[0m         \u001b[0mcontainer\u001b[0m \u001b[0;34m=\u001b[0m \u001b[0m_open_zipfile_writer_buffer\u001b[0m\u001b[0;34m\u001b[0m\u001b[0;34m\u001b[0m\u001b[0m\n\u001b[0;32m--> 828\u001b[0;31m     \u001b[0;32mreturn\u001b[0m \u001b[0mcontainer\u001b[0m\u001b[0;34m(\u001b[0m\u001b[0mname_or_buffer\u001b[0m\u001b[0;34m)\u001b[0m  \u001b[0;31m# type: ignore[arg-type]\u001b[0m\u001b[0;34m\u001b[0m\u001b[0;34m\u001b[0m\u001b[0m\n\u001b[0m\u001b[1;32m    829\u001b[0m \u001b[0;34m\u001b[0m\u001b[0m\n\u001b[1;32m    830\u001b[0m \u001b[0;34m\u001b[0m\u001b[0m\n",
            "\u001b[0;32m/usr/local/lib/python3.12/dist-packages/torch/serialization.py\u001b[0m in \u001b[0;36m__init__\u001b[0;34m(self, name)\u001b[0m\n\u001b[1;32m    790\u001b[0m         \u001b[0;32melse\u001b[0m\u001b[0;34m:\u001b[0m\u001b[0;34m\u001b[0m\u001b[0;34m\u001b[0m\u001b[0m\n\u001b[1;32m    791\u001b[0m             super().__init__(\n\u001b[0;32m--> 792\u001b[0;31m                 torch._C.PyTorchFileWriter(\n\u001b[0m\u001b[1;32m    793\u001b[0m                     \u001b[0mself\u001b[0m\u001b[0;34m.\u001b[0m\u001b[0mname\u001b[0m\u001b[0;34m,\u001b[0m \u001b[0mget_crc32_options\u001b[0m\u001b[0;34m(\u001b[0m\u001b[0;34m)\u001b[0m\u001b[0;34m,\u001b[0m \u001b[0m_get_storage_alignment\u001b[0m\u001b[0;34m(\u001b[0m\u001b[0;34m)\u001b[0m\u001b[0;34m\u001b[0m\u001b[0;34m\u001b[0m\u001b[0m\n\u001b[1;32m    794\u001b[0m                 )\n",
            "\u001b[0;31mRuntimeError\u001b[0m: Parent directory /content/drive/MyDrive/Colab Notebooks/Kinya_gpt does not exist."
          ]
        }
      ],
      "source": [
        "train_losses = []\n",
        "val_losses = []\n",
        "\n",
        "device = \"cuda\" if torch.cuda.is_available() else \"cpu\"\n",
        "config = GPTConfig()\n",
        "model = GPT(config).to(device)\n",
        "\n",
        "optimizer = torch.optim.AdamW(model.parameters(), lr=3e-4)\n",
        "\n",
        "num_epochs = 8\n",
        "save_dir = \"/content/drive/MyDrive/Colab Notebooks/Kinya_gpt/\"\n",
        "\n",
        "print(\"Training...\")\n",
        "\n",
        "for epoch in range(num_epochs):\n",
        "    model.train()\n",
        "    total_loss = 0\n",
        "    for batch_idx, (x, y) in enumerate(train_loader):\n",
        "        x, y = x.to(device), y.to(device).long()\n",
        "\n",
        "        optimizer.zero_grad()\n",
        "        _, loss = model(x, y)\n",
        "        loss.backward()\n",
        "        optimizer.step()\n",
        "\n",
        "        total_loss += loss.item()\n",
        "\n",
        "        if (batch_idx + 1) % 100 == 0:\n",
        "            avg_loss_so_far = total_loss / (batch_idx + 1)\n",
        "            print(f\"Epoch {epoch+1} | Step {batch_idx+1}/{len(train_loader)} | Avg Train Loss: {avg_loss_so_far:.4f}\")\n",
        "\n",
        "    avg_train_loss = total_loss / len(train_loader)\n",
        "    train_losses.append(avg_train_loss)\n",
        "\n",
        "    model.eval()\n",
        "    val_loss = 0\n",
        "    with torch.no_grad():\n",
        "        for x, y in val_loader:\n",
        "            x, y = x.to(device), y.to(device).long()\n",
        "            _, loss = model(x, y)\n",
        "            val_loss += loss.item()\n",
        "    avg_val_loss = val_loss / len(val_loader)\n",
        "    val_losses.append(avg_val_loss)\n",
        "\n",
        "    print(f\"Epoch {epoch+1}/{num_epochs} | Train Loss: {avg_train_loss:.4f} | Val Loss: {avg_val_loss:.4f}\")\n",
        "\n",
        "\n",
        "\n"
      ]
    },
    {
      "cell_type": "code",
      "execution_count": 26,
      "metadata": {
        "colab": {
          "base_uri": "https://localhost:8080/"
        },
        "id": "cyPeuZyi47lw",
        "outputId": "ff236371-8101-4cf8-f43b-3b0200a16bdc"
      },
      "outputs": [
        {
          "name": "stdout",
          "output_type": "stream",
          "text": [
            "Model Saved in /content/drive/MyDrive/Colab Notebooks/Kinya gpt/2KinyaMiniGpt8.pt\n"
          ]
        }
      ],
      "source": [
        "\n",
        "save_dir = \"/content/drive/MyDrive/Colab Notebooks/Kinya gpt/\"\n",
        "final_path = save_dir + f\"2KinyaMiniGpt{num_epochs}.pt\"\n",
        "torch.save({\n",
        "    \"epoch\": num_epochs,\n",
        "    \"model_state_dict\": model.state_dict(),\n",
        "    \"optimizer_state_dict\": optimizer.state_dict(),\n",
        "    \"train_loss\": train_losses[-1],\n",
        "    \"val_loss\": val_losses[-1],\n",
        "}, final_path)\n",
        "print(f\"Model Saved in {final_path}\")"
      ]
    },
    {
      "cell_type": "code",
      "execution_count": 27,
      "metadata": {
        "colab": {
          "base_uri": "https://localhost:8080/",
          "height": 487
        },
        "id": "I8f0LCuTWhaI",
        "outputId": "b1b866f6-708f-46d9-ee9f-10442df1dc25"
      },
      "outputs": [
        {
          "data": {
            "image/png": "[encoded data removed]",
            "text/plain": [
              "<Figure size 800x500 with 1 Axes>"
            ]
          },
          "metadata": {},
          "output_type": "display_data"
        }
      ],
      "source": [
        "plt.figure(figsize=(8,5))\n",
        "plt.plot(train_losses, label=\"Train Loss\", marker='o')\n",
        "plt.plot(val_losses, label=\"Validation Loss\", marker='o')\n",
        "plt.xlabel(\"Epoch\")\n",
        "plt.ylabel(\"Loss\")\n",
        "plt.title(\"Training vs Validation Loss\")\n",
        "plt.legend()\n",
        "plt.grid(True)\n",
        "plt.show()\n"
      ]
    },
    {
      "cell_type": "code",
      "execution_count": 28,
      "metadata": {
        "colab": {
          "base_uri": "https://localhost:8080/"
        },
        "id": "gYtoHDj2LyEB",
        "outputId": "dae37298-c74a-4663-c8f5-9add1e4ec0fb"
      },
      "outputs": [
        {
          "name": "stdout",
          "output_type": "stream",
          "text": [
            "Validation Loss: 3.7463\n",
            "Validation Perplexity: 42.36\n",
            "Validation Accuracy: 33.44%\n"
          ]
        }
      ],
      "source": [
        "\n",
        "def evaluate_model(model, val_loader, device=\"cuda\"):\n",
        "    model.eval()\n",
        "    total_loss = 0\n",
        "    correct, total = 0, 0\n",
        "\n",
        "    with torch.no_grad():\n",
        "        for x, y in val_loader:\n",
        "            x, y = x.to(device), y.to(device).long()\n",
        "            logits, loss = model(x, y)\n",
        "            total_loss += loss.item()\n",
        "\n",
        "\n",
        "            preds = torch.argmax(logits, dim=-1)\n",
        "            mask = y != -100\n",
        "            correct += (preds[mask] == y[mask]).sum().item()\n",
        "            total   += mask.sum().item()\n",
        "\n",
        "    avg_loss = total_loss / len(val_loader)\n",
        "    perplexity = math.exp(avg_loss)\n",
        "    accuracy = correct / total\n",
        "\n",
        "    return avg_loss, perplexity, accuracy\n",
        "\n",
        "\n",
        "val_loss, val_ppl, val_acc = evaluate_model(model, val_loader, device)\n",
        "print(f\"Validation Loss: {val_loss:.4f}\")\n",
        "print(f\"Validation Perplexity: {val_ppl:.2f}\")\n",
        "print(f\"Validation Accuracy: {val_acc*100:.2f}%\")\n"
      ]
    },
    {
      "cell_type": "code",
      "execution_count": 29,
      "metadata": {
        "colab": {
          "base_uri": "https://localhost:8080/"
        },
        "id": "kQ_RzyrqrzuV",
        "outputId": "3486419c-e937-4e41-9521-8bd3b3edef32"
      },
      "outputs": [
        {
          "data": {
            "text/plain": [
              "<All keys matched successfully>"
            ]
          },
          "execution_count": 29,
          "metadata": {},
          "output_type": "execute_result"
        }
      ],
      "source": [
        "import torch\n",
        "\n",
        "device = \"cuda\" if torch.cuda.is_available() else \"cpu\"\n",
        "\n",
        "config = GPTConfig()\n",
        "model = GPT(config).to(device)\n",
        "\n",
        "\n",
        "model_path = \"/content/drive/MyDrive/Colab Notebooks/Kinya gpt/2KinyaMiniGpt8.pt\"\n",
        "\n",
        "\n",
        "\n",
        "\n",
        "load_model = torch.load(model_path, map_location=device)\n",
        "model.load_state_dict(load_model[\"model_state_dict\"])\n",
        "\n",
        "\n"
      ]
    },
    {
      "cell_type": "code",
      "execution_count": 30,
      "metadata": {
        "colab": {
          "base_uri": "https://localhost:8080/"
        },
        "id": "s6Mh0TeM9DfD",
        "outputId": "c9aa62b1-be04-48b2-cbe6-2c2e88b6070c"
      },
      "outputs": [
        {
          "name": "stdout",
          "output_type": "stream",
          "text": [
            "Total trainable parameters: 51,945,472\n"
          ]
        }
      ],
      "source": [
        "\n",
        "num_params = sum(p.numel() for p in model.parameters() if p.requires_grad)\n",
        "print(f\"Total trainable parameters: {num_params:,}\")\n"
      ]
    },
    {
      "cell_type": "code",
      "execution_count": 30,
      "metadata": {
        "id": "6xIMhjsTTHtJ"
      },
      "outputs": [],
      "source": []
    },
    {
      "cell_type": "code",
      "execution_count": 31,
      "metadata": {
        "id": "FrV6exvA9kNY"
      },
      "outputs": [],
      "source": [
        "\n",
        "\n",
        "def generate_text(model, tokenizer, prompt, max_new_tokens=50, temperature=1.2, top_k=50):\n",
        "    model.eval()\n",
        "    device = next(model.parameters()).device\n",
        "\n",
        "\n",
        "    input_ids = tokenizer.encode(prompt).ids\n",
        "    input_ids = torch.tensor([input_ids], dtype=torch.long, device=device)\n",
        "\n",
        "    for _ in range(max_new_tokens):\n",
        "\n",
        "        logits, _ = model(input_ids)\n",
        "        logits = logits[:, -1, :] / temperature\n",
        "\n",
        "\n",
        "        if top_k is not None:\n",
        "            values, indices = torch.topk(logits, k=top_k)\n",
        "            probs = torch.zeros_like(logits).scatter_(1, indices, values)\n",
        "            probs = F.softmax(probs, dim=-1)\n",
        "        else:\n",
        "            probs = F.softmax(logits, dim=-1)\n",
        "\n",
        "\n",
        "        next_id = torch.multinomial(probs, num_samples=1)\n",
        "        input_ids = torch.cat([input_ids, next_id], dim=1)\n",
        "\n",
        "\n",
        "    output_text = tokenizer.decode(input_ids[0].tolist(), skip_special_tokens=True)\n",
        "    return output_text\n"
      ]
    },
    {
      "cell_type": "code",
      "execution_count": 33,
      "metadata": {
        "id": "R9i4nImj9p4M"
      },
      "outputs": [],
      "source": [
        "\n",
        "tok_path = \"/content/drive/MyDrive/Colab Notebooks/Kinya gpt/2kinyarwanda_bpe_32k.json\"\n",
        "tokenizer = Tokenizer.from_file(tok_path)\n"
      ]
    },
    {
      "cell_type": "code",
      "execution_count": 44,
      "metadata": {
        "colab": {
          "base_uri": "https://localhost:8080/"
        },
        "id": "E7cGwCqR90bp",
        "outputId": "24efc491-224d-4a6d-f451-65854b85100f"
      },
      "outputs": [
        {
          "name": "stdout",
          "output_type": "stream",
          "text": [
            "Generated text:\n",
            "  Amakuru  y ' umunsi  ku  wundi ,  aho  abantu  benshi  baba  bara sobanukiwe  iby ' uyu  mukino  ndetse  na  Perezida  Kagame  yagize  ati :\" Iki  ni  cyo  gihe  tuzaba menyesha  ko  iyi  mikino  iza kinwa  mu  ntangiriro  z ' uyu  mwaka \"  , yagan  nubwitonzi ,  tuzi banda  ku  gukora  siporo  n ' ibindi\n"
          ]
        }
      ],
      "source": [
        "prompt = \"Amakuru y'umunsi\"\n",
        "generated = generate_text(model, tokenizer, prompt, max_new_tokens=50, temperature=0.9)\n",
        "print(\"Generated text:\\n\", generated.replace(\"Ġ\", \" \"))\n"
      ]
    },
    {
      "cell_type": "code",
      "execution_count": 38,
      "metadata": {
        "colab": {
          "base_uri": "https://localhost:8080/"
        },
        "id": "Obql9QzMfRzV",
        "outputId": "5bc10998-b37f-4999-9268-f2f4bc15cfc5"
      },
      "outputs": [
        {
          "name": "stdout",
          "output_type": "stream",
          "text": [
            "token_emb.weight torch.Size([32000, 512])\n",
            "pos_emb.weight torch.Size([512, 512])\n",
            "transformer.layers.0.self_attn.in_proj_weight torch.Size([1536, 512])\n",
            "transformer.layers.0.self_attn.in_proj_bias torch.Size([1536])\n",
            "transformer.layers.0.self_attn.out_proj.weight torch.Size([512, 512])\n",
            "transformer.layers.0.self_attn.out_proj.bias torch.Size([512])\n",
            "transformer.layers.0.linear1.weight torch.Size([2048, 512])\n",
            "transformer.layers.0.linear1.bias torch.Size([2048])\n",
            "transformer.layers.0.linear2.weight torch.Size([512, 2048])\n",
            "transformer.layers.0.linear2.bias torch.Size([512])\n",
            "transformer.layers.0.norm1.weight torch.Size([512])\n",
            "transformer.layers.0.norm1.bias torch.Size([512])\n",
            "transformer.layers.0.norm2.weight torch.Size([512])\n",
            "transformer.layers.0.norm2.bias torch.Size([512])\n",
            "transformer.layers.1.self_attn.in_proj_weight torch.Size([1536, 512])\n",
            "transformer.layers.1.self_attn.in_proj_bias torch.Size([1536])\n",
            "transformer.layers.1.self_attn.out_proj.weight torch.Size([512, 512])\n",
            "transformer.layers.1.self_attn.out_proj.bias torch.Size([512])\n",
            "transformer.layers.1.linear1.weight torch.Size([2048, 512])\n",
            "transformer.layers.1.linear1.bias torch.Size([2048])\n",
            "transformer.layers.1.linear2.weight torch.Size([512, 2048])\n",
            "transformer.layers.1.linear2.bias torch.Size([512])\n",
            "transformer.layers.1.norm1.weight torch.Size([512])\n",
            "transformer.layers.1.norm1.bias torch.Size([512])\n",
            "transformer.layers.1.norm2.weight torch.Size([512])\n",
            "transformer.layers.1.norm2.bias torch.Size([512])\n",
            "transformer.layers.2.self_attn.in_proj_weight torch.Size([1536, 512])\n",
            "transformer.layers.2.self_attn.in_proj_bias torch.Size([1536])\n",
            "transformer.layers.2.self_attn.out_proj.weight torch.Size([512, 512])\n",
            "transformer.layers.2.self_attn.out_proj.bias torch.Size([512])\n",
            "transformer.layers.2.linear1.weight torch.Size([2048, 512])\n",
            "transformer.layers.2.linear1.bias torch.Size([2048])\n",
            "transformer.layers.2.linear2.weight torch.Size([512, 2048])\n",
            "transformer.layers.2.linear2.bias torch.Size([512])\n",
            "transformer.layers.2.norm1.weight torch.Size([512])\n",
            "transformer.layers.2.norm1.bias torch.Size([512])\n",
            "transformer.layers.2.norm2.weight torch.Size([512])\n",
            "transformer.layers.2.norm2.bias torch.Size([512])\n",
            "transformer.layers.3.self_attn.in_proj_weight torch.Size([1536, 512])\n",
            "transformer.layers.3.self_attn.in_proj_bias torch.Size([1536])\n",
            "transformer.layers.3.self_attn.out_proj.weight torch.Size([512, 512])\n",
            "transformer.layers.3.self_attn.out_proj.bias torch.Size([512])\n",
            "transformer.layers.3.linear1.weight torch.Size([2048, 512])\n",
            "transformer.layers.3.linear1.bias torch.Size([2048])\n",
            "transformer.layers.3.linear2.weight torch.Size([512, 2048])\n",
            "transformer.layers.3.linear2.bias torch.Size([512])\n",
            "transformer.layers.3.norm1.weight torch.Size([512])\n",
            "transformer.layers.3.norm1.bias torch.Size([512])\n",
            "transformer.layers.3.norm2.weight torch.Size([512])\n",
            "transformer.layers.3.norm2.bias torch.Size([512])\n",
            "transformer.layers.4.self_attn.in_proj_weight torch.Size([1536, 512])\n",
            "transformer.layers.4.self_attn.in_proj_bias torch.Size([1536])\n",
            "transformer.layers.4.self_attn.out_proj.weight torch.Size([512, 512])\n",
            "transformer.layers.4.self_attn.out_proj.bias torch.Size([512])\n",
            "transformer.layers.4.linear1.weight torch.Size([2048, 512])\n",
            "transformer.layers.4.linear1.bias torch.Size([2048])\n",
            "transformer.layers.4.linear2.weight torch.Size([512, 2048])\n",
            "transformer.layers.4.linear2.bias torch.Size([512])\n",
            "transformer.layers.4.norm1.weight torch.Size([512])\n",
            "transformer.layers.4.norm1.bias torch.Size([512])\n",
            "transformer.layers.4.norm2.weight torch.Size([512])\n",
            "transformer.layers.4.norm2.bias torch.Size([512])\n",
            "transformer.layers.5.self_attn.in_proj_weight torch.Size([1536, 512])\n",
            "transformer.layers.5.self_attn.in_proj_bias torch.Size([1536])\n",
            "transformer.layers.5.self_attn.out_proj.weight torch.Size([512, 512])\n",
            "transformer.layers.5.self_attn.out_proj.bias torch.Size([512])\n",
            "transformer.layers.5.linear1.weight torch.Size([2048, 512])\n",
            "transformer.layers.5.linear1.bias torch.Size([2048])\n",
            "transformer.layers.5.linear2.weight torch.Size([512, 2048])\n",
            "transformer.layers.5.linear2.bias torch.Size([512])\n",
            "transformer.layers.5.norm1.weight torch.Size([512])\n",
            "transformer.layers.5.norm1.bias torch.Size([512])\n",
            "transformer.layers.5.norm2.weight torch.Size([512])\n",
            "transformer.layers.5.norm2.bias torch.Size([512])\n",
            "ln_f.weight torch.Size([512])\n",
            "ln_f.bias torch.Size([512])\n",
            "head.weight torch.Size([32000, 512])\n"
          ]
        }
      ],
      "source": [
        "sd_hf = model.state_dict()\n",
        "for k, v in sd_hf.items():\n",
        "  print(k, v.shape)"
      ]
    },
    {
      "cell_type": "code",
      "execution_count": 39,
      "metadata": {
        "id": "V2tJFq7IfmBR"
      },
      "outputs": [],
      "source": []
    }
  ],
  "metadata": {
    "accelerator": "GPU",
    "colab": {
      "gpuType": "A100",
      "machine_shape": "hm",
      "provenance": []
    },
    "kernelspec": {
      "display_name": "base",
      "language": "python",
      "name": "python3"
    },
    "language_info": {
      "name": "python",
      "version": "3.12.7"
    },
    "widgets": {
      "application/vnd.jupyter.widget-state+json": {
        "07e658ec5ca74069875f19710e46c846": {
          "model_module": "@jupyter-widgets/controls",
          "model_module_version": "1.5.0",
          "model_name": "FloatProgressModel",
          "state": {
            "_dom_classes": [],
            "_model_module": "@jupyter-widgets/controls",
            "_model_module_version": "1.5.0",
            "_model_name": "FloatProgressModel",
            "_view_count": null,
            "_view_module": "@jupyter-widgets/controls",
            "_view_module_version": "1.5.0",
            "_view_name": "ProgressView",
            "bar_style": "success",
            "description": "",
            "description_tooltip": null,
            "layout": "IPY_MODEL_2f3d0c8c44114f31880b04a39c5f6f42",
            "max": 1068161,
            "min": 0,
            "orientation": "horizontal",
            "style": "IPY_MODEL_0db4643f056e4b3aaeb705a258dd5711",
            "value": 1068161
          }
        },
        "0db4643f056e4b3aaeb705a258dd5711": {
          "model_module": "@jupyter-widgets/controls",
          "model_module_version": "1.5.0",
          "model_name": "ProgressStyleModel",
          "state": {
            "_model_module": "@jupyter-widgets/controls",
            "_model_module_version": "1.5.0",
            "_model_name": "ProgressStyleModel",
            "_view_count": null,
            "_view_module": "@jupyter-widgets/base",
            "_view_module_version": "1.2.0",
            "_view_name": "StyleView",
            "bar_color": null,
            "description_width": ""
          }
        },
        "17f038bdcc5b4635ac77861283c7a690": {
          "model_module": "@jupyter-widgets/controls",
          "model_module_version": "1.5.0",
          "model_name": "HTMLModel",
          "state": {
            "_dom_classes": [],
            "_model_module": "@jupyter-widgets/controls",
            "_model_module_version": "1.5.0",
            "_model_name": "HTMLModel",
            "_view_count": null,
            "_view_module": "@jupyter-widgets/controls",
            "_view_module_version": "1.5.0",
            "_view_name": "HTMLView",
            "description": "",
            "description_tooltip": null,
            "layout": "IPY_MODEL_771eda1bf9b8469d92ae45144c46e9c4",
            "placeholder": "​",
            "style": "IPY_MODEL_8d3f392d94a34d83b981d69c4f3149b8",
            "value": " 276M/276M [00:02&lt;00:00, 145MB/s]"
          }
        },
        "1d77e5de23ff45949fd0397169f6bab8": {
          "model_module": "@jupyter-widgets/base",
          "model_module_version": "1.2.0",
          "model_name": "LayoutModel",
          "state": {
            "_model_module": "@jupyter-widgets/base",
            "_model_module_version": "1.2.0",
            "_model_name": "LayoutModel",
            "_view_count": null,
            "_view_module": "@jupyter-widgets/base",
            "_view_module_version": "1.2.0",
            "_view_name": "LayoutView",
            "align_content": null,
            "align_items": null,
            "align_self": null,
            "border": null,
            "bottom": null,
            "display": null,
            "flex": null,
            "flex_flow": null,
            "grid_area": null,
            "grid_auto_columns": null,
            "grid_auto_flow": null,
            "grid_auto_rows": null,
            "grid_column": null,
            "grid_gap": null,
            "grid_row": null,
            "grid_template_areas": null,
            "grid_template_columns": null,
            "grid_template_rows": null,
            "height": null,
            "justify_content": null,
            "justify_items": null,
            "left": null,
            "margin": null,
            "max_height": null,
            "max_width": null,
            "min_height": null,
            "min_width": null,
            "object_fit": null,
            "object_position": null,
            "order": null,
            "overflow": null,
            "overflow_x": null,
            "overflow_y": null,
            "padding": null,
            "right": null,
            "top": null,
            "visibility": null,
            "width": null
          }
        },
        "22832366345d4f5da035d72c0763a2a2": {
          "model_module": "@jupyter-widgets/controls",
          "model_module_version": "1.5.0",
          "model_name": "DescriptionStyleModel",
          "state": {
            "_model_module": "@jupyter-widgets/controls",
            "_model_module_version": "1.5.0",
            "_model_name": "DescriptionStyleModel",
            "_view_count": null,
            "_view_module": "@jupyter-widgets/base",
            "_view_module_version": "1.2.0",
            "_view_name": "StyleView",
            "description_width": ""
          }
        },
        "2f3d0c8c44114f31880b04a39c5f6f42": {
          "model_module": "@jupyter-widgets/base",
          "model_module_version": "1.2.0",
          "model_name": "LayoutModel",
          "state": {
            "_model_module": "@jupyter-widgets/base",
            "_model_module_version": "1.2.0",
            "_model_name": "LayoutModel",
            "_view_count": null,
            "_view_module": "@jupyter-widgets/base",
            "_view_module_version": "1.2.0",
            "_view_name": "LayoutView",
            "align_content": null,
            "align_items": null,
            "align_self": null,
            "border": null,
            "bottom": null,
            "display": null,
            "flex": null,
            "flex_flow": null,
            "grid_area": null,
            "grid_auto_columns": null,
            "grid_auto_flow": null,
            "grid_auto_rows": null,
            "grid_column": null,
            "grid_gap": null,
            "grid_row": null,
            "grid_template_areas": null,
            "grid_template_columns": null,
            "grid_template_rows": null,
            "height": null,
            "justify_content": null,
            "justify_items": null,
            "left": null,
            "margin": null,
            "max_height": null,
            "max_width": null,
            "min_height": null,
            "min_width": null,
            "object_fit": null,
            "object_position": null,
            "order": null,
            "overflow": null,
            "overflow_x": null,
            "overflow_y": null,
            "padding": null,
            "right": null,
            "top": null,
            "visibility": null,
            "width": null
          }
        },
        "30d5aff61e534dcc89a075b0373a1c7f": {
          "model_module": "@jupyter-widgets/controls",
          "model_module_version": "1.5.0",
          "model_name": "DescriptionStyleModel",
          "state": {
            "_model_module": "@jupyter-widgets/controls",
            "_model_module_version": "1.5.0",
            "_model_name": "DescriptionStyleModel",
            "_view_count": null,
            "_view_module": "@jupyter-widgets/base",
            "_view_module_version": "1.2.0",
            "_view_name": "StyleView",
            "description_width": ""
          }
        },
        "3195c3a522ec4d6ea7ddb2997104abd1": {
          "model_module": "@jupyter-widgets/controls",
          "model_module_version": "1.5.0",
          "model_name": "HBoxModel",
          "state": {
            "_dom_classes": [],
            "_model_module": "@jupyter-widgets/controls",
            "_model_module_version": "1.5.0",
            "_model_name": "HBoxModel",
            "_view_count": null,
            "_view_module": "@jupyter-widgets/controls",
            "_view_module_version": "1.5.0",
            "_view_name": "HBoxView",
            "box_style": "",
            "children": [
              "IPY_MODEL_ac9d27cee7824708bd2ed1745c68f920",
              "IPY_MODEL_8c457c9ad77d4744852411e3fa788ad1",
              "IPY_MODEL_17f038bdcc5b4635ac77861283c7a690"
            ],
            "layout": "IPY_MODEL_3c97f0577f8841a38f28e9289137eccb"
          }
        },
        "3c97f0577f8841a38f28e9289137eccb": {
          "model_module": "@jupyter-widgets/base",
          "model_module_version": "1.2.0",
          "model_name": "LayoutModel",
          "state": {
            "_model_module": "@jupyter-widgets/base",
            "_model_module_version": "1.2.0",
            "_model_name": "LayoutModel",
            "_view_count": null,
            "_view_module": "@jupyter-widgets/base",
            "_view_module_version": "1.2.0",
            "_view_name": "LayoutView",
            "align_content": null,
            "align_items": null,
            "align_self": null,
            "border": null,
            "bottom": null,
            "display": null,
            "flex": null,
            "flex_flow": null,
            "grid_area": null,
            "grid_auto_columns": null,
            "grid_auto_flow": null,
            "grid_auto_rows": null,
            "grid_column": null,
            "grid_gap": null,
            "grid_row": null,
            "grid_template_areas": null,
            "grid_template_columns": null,
            "grid_template_rows": null,
            "height": null,
            "justify_content": null,
            "justify_items": null,
            "left": null,
            "margin": null,
            "max_height": null,
            "max_width": null,
            "min_height": null,
            "min_width": null,
            "object_fit": null,
            "object_position": null,
            "order": null,
            "overflow": null,
            "overflow_x": null,
            "overflow_y": null,
            "padding": null,
            "right": null,
            "top": null,
            "visibility": null,
            "width": null
          }
        },
        "3f83f798921d4d40b2836de3c05183d5": {
          "model_module": "@jupyter-widgets/controls",
          "model_module_version": "1.5.0",
          "model_name": "DescriptionStyleModel",
          "state": {
            "_model_module": "@jupyter-widgets/controls",
            "_model_module_version": "1.5.0",
            "_model_name": "DescriptionStyleModel",
            "_view_count": null,
            "_view_module": "@jupyter-widgets/base",
            "_view_module_version": "1.2.0",
            "_view_name": "StyleView",
            "description_width": ""
          }
        },
        "44223762c8434ba7ad3b4b9b68c576ad": {
          "model_module": "@jupyter-widgets/controls",
          "model_module_version": "1.5.0",
          "model_name": "ProgressStyleModel",
          "state": {
            "_model_module": "@jupyter-widgets/controls",
            "_model_module_version": "1.5.0",
            "_model_name": "ProgressStyleModel",
            "_view_count": null,
            "_view_module": "@jupyter-widgets/base",
            "_view_module_version": "1.2.0",
            "_view_name": "StyleView",
            "bar_color": null,
            "description_width": ""
          }
        },
        "46e68dc88d864d6dab46626f7de4cb83": {
          "model_module": "@jupyter-widgets/controls",
          "model_module_version": "1.5.0",
          "model_name": "HTMLModel",
          "state": {
            "_dom_classes": [],
            "_model_module": "@jupyter-widgets/controls",
            "_model_module_version": "1.5.0",
            "_model_name": "HTMLModel",
            "_view_count": null,
            "_view_module": "@jupyter-widgets/controls",
            "_view_module_version": "1.5.0",
            "_view_name": "HTMLView",
            "description": "",
            "description_tooltip": null,
            "layout": "IPY_MODEL_af1e9bf0cdda489db0c593e07b648661",
            "placeholder": "​",
            "style": "IPY_MODEL_3f83f798921d4d40b2836de3c05183d5",
            "value": " 4.17k/4.17k [00:00&lt;00:00, 499kB/s]"
          }
        },
        "4cfa7e3afa6e422ab5a58ac778ba4b73": {
          "model_module": "@jupyter-widgets/controls",
          "model_module_version": "1.5.0",
          "model_name": "DescriptionStyleModel",
          "state": {
            "_model_module": "@jupyter-widgets/controls",
            "_model_module_version": "1.5.0",
            "_model_name": "DescriptionStyleModel",
            "_view_count": null,
            "_view_module": "@jupyter-widgets/base",
            "_view_module_version": "1.2.0",
            "_view_name": "StyleView",
            "description_width": ""
          }
        },
        "5e22cfd350da4ce3920fd849e46b2113": {
          "model_module": "@jupyter-widgets/controls",
          "model_module_version": "1.5.0",
          "model_name": "HTMLModel",
          "state": {
            "_dom_classes": [],
            "_model_module": "@jupyter-widgets/controls",
            "_model_module_version": "1.5.0",
            "_model_name": "HTMLModel",
            "_view_count": null,
            "_view_module": "@jupyter-widgets/controls",
            "_view_module_version": "1.5.0",
            "_view_name": "HTMLView",
            "description": "",
            "description_tooltip": null,
            "layout": "IPY_MODEL_dd7951e5603f4a1590dcf87e234159e7",
            "placeholder": "​",
            "style": "IPY_MODEL_4cfa7e3afa6e422ab5a58ac778ba4b73",
            "value": " 1068161/1068161 [00:02&lt;00:00, 942194.58 examples/s]"
          }
        },
        "728e6ff4e10548d9879afb33caac2b56": {
          "model_module": "@jupyter-widgets/controls",
          "model_module_version": "1.5.0",
          "model_name": "ProgressStyleModel",
          "state": {
            "_model_module": "@jupyter-widgets/controls",
            "_model_module_version": "1.5.0",
            "_model_name": "ProgressStyleModel",
            "_view_count": null,
            "_view_module": "@jupyter-widgets/base",
            "_view_module_version": "1.2.0",
            "_view_name": "StyleView",
            "bar_color": null,
            "description_width": ""
          }
        },
        "771eda1bf9b8469d92ae45144c46e9c4": {
          "model_module": "@jupyter-widgets/base",
          "model_module_version": "1.2.0",
          "model_name": "LayoutModel",
          "state": {
            "_model_module": "@jupyter-widgets/base",
            "_model_module_version": "1.2.0",
            "_model_name": "LayoutModel",
            "_view_count": null,
            "_view_module": "@jupyter-widgets/base",
            "_view_module_version": "1.2.0",
            "_view_name": "LayoutView",
            "align_content": null,
            "align_items": null,
            "align_self": null,
            "border": null,
            "bottom": null,
            "display": null,
            "flex": null,
            "flex_flow": null,
            "grid_area": null,
            "grid_auto_columns": null,
            "grid_auto_flow": null,
            "grid_auto_rows": null,
            "grid_column": null,
            "grid_gap": null,
            "grid_row": null,
            "grid_template_areas": null,
            "grid_template_columns": null,
            "grid_template_rows": null,
            "height": null,
            "justify_content": null,
            "justify_items": null,
            "left": null,
            "margin": null,
            "max_height": null,
            "max_width": null,
            "min_height": null,
            "min_width": null,
            "object_fit": null,
            "object_position": null,
            "order": null,
            "overflow": null,
            "overflow_x": null,
            "overflow_y": null,
            "padding": null,
            "right": null,
            "top": null,
            "visibility": null,
            "width": null
          }
        },
        "78168834367647d4a01f3dd4f53a4e66": {
          "model_module": "@jupyter-widgets/base",
          "model_module_version": "1.2.0",
          "model_name": "LayoutModel",
          "state": {
            "_model_module": "@jupyter-widgets/base",
            "_model_module_version": "1.2.0",
            "_model_name": "LayoutModel",
            "_view_count": null,
            "_view_module": "@jupyter-widgets/base",
            "_view_module_version": "1.2.0",
            "_view_name": "LayoutView",
            "align_content": null,
            "align_items": null,
            "align_self": null,
            "border": null,
            "bottom": null,
            "display": null,
            "flex": null,
            "flex_flow": null,
            "grid_area": null,
            "grid_auto_columns": null,
            "grid_auto_flow": null,
            "grid_auto_rows": null,
            "grid_column": null,
            "grid_gap": null,
            "grid_row": null,
            "grid_template_areas": null,
            "grid_template_columns": null,
            "grid_template_rows": null,
            "height": null,
            "justify_content": null,
            "justify_items": null,
            "left": null,
            "margin": null,
            "max_height": null,
            "max_width": null,
            "min_height": null,
            "min_width": null,
            "object_fit": null,
            "object_position": null,
            "order": null,
            "overflow": null,
            "overflow_x": null,
            "overflow_y": null,
            "padding": null,
            "right": null,
            "top": null,
            "visibility": null,
            "width": null
          }
        },
        "822f766ea3144ed9b24672ae527b14ea": {
          "model_module": "@jupyter-widgets/base",
          "model_module_version": "1.2.0",
          "model_name": "LayoutModel",
          "state": {
            "_model_module": "@jupyter-widgets/base",
            "_model_module_version": "1.2.0",
            "_model_name": "LayoutModel",
            "_view_count": null,
            "_view_module": "@jupyter-widgets/base",
            "_view_module_version": "1.2.0",
            "_view_name": "LayoutView",
            "align_content": null,
            "align_items": null,
            "align_self": null,
            "border": null,
            "bottom": null,
            "display": null,
            "flex": null,
            "flex_flow": null,
            "grid_area": null,
            "grid_auto_columns": null,
            "grid_auto_flow": null,
            "grid_auto_rows": null,
            "grid_column": null,
            "grid_gap": null,
            "grid_row": null,
            "grid_template_areas": null,
            "grid_template_columns": null,
            "grid_template_rows": null,
            "height": null,
            "justify_content": null,
            "justify_items": null,
            "left": null,
            "margin": null,
            "max_height": null,
            "max_width": null,
            "min_height": null,
            "min_width": null,
            "object_fit": null,
            "object_position": null,
            "order": null,
            "overflow": null,
            "overflow_x": null,
            "overflow_y": null,
            "padding": null,
            "right": null,
            "top": null,
            "visibility": null,
            "width": null
          }
        },
        "8489a3a5f15345e99fe31af96d391d07": {
          "model_module": "@jupyter-widgets/controls",
          "model_module_version": "1.5.0",
          "model_name": "HTMLModel",
          "state": {
            "_dom_classes": [],
            "_model_module": "@jupyter-widgets/controls",
            "_model_module_version": "1.5.0",
            "_model_name": "HTMLModel",
            "_view_count": null,
            "_view_module": "@jupyter-widgets/controls",
            "_view_module_version": "1.5.0",
            "_view_name": "HTMLView",
            "description": "",
            "description_tooltip": null,
            "layout": "IPY_MODEL_78168834367647d4a01f3dd4f53a4e66",
            "placeholder": "​",
            "style": "IPY_MODEL_22832366345d4f5da035d72c0763a2a2",
            "value": "Generating train split: 100%"
          }
        },
        "8c457c9ad77d4744852411e3fa788ad1": {
          "model_module": "@jupyter-widgets/controls",
          "model_module_version": "1.5.0",
          "model_name": "FloatProgressModel",
          "state": {
            "_dom_classes": [],
            "_model_module": "@jupyter-widgets/controls",
            "_model_module_version": "1.5.0",
            "_model_name": "FloatProgressModel",
            "_view_count": null,
            "_view_module": "@jupyter-widgets/controls",
            "_view_module_version": "1.5.0",
            "_view_name": "ProgressView",
            "bar_style": "success",
            "description": "",
            "description_tooltip": null,
            "layout": "IPY_MODEL_e885351faf534fd0b57809661605ea28",
            "max": 276492079,
            "min": 0,
            "orientation": "horizontal",
            "style": "IPY_MODEL_728e6ff4e10548d9879afb33caac2b56",
            "value": 276492079
          }
        },
        "8d3f392d94a34d83b981d69c4f3149b8": {
          "model_module": "@jupyter-widgets/controls",
          "model_module_version": "1.5.0",
          "model_name": "DescriptionStyleModel",
          "state": {
            "_model_module": "@jupyter-widgets/controls",
            "_model_module_version": "1.5.0",
            "_model_name": "DescriptionStyleModel",
            "_view_count": null,
            "_view_module": "@jupyter-widgets/base",
            "_view_module_version": "1.2.0",
            "_view_name": "StyleView",
            "description_width": ""
          }
        },
        "8fc6153f2eb44660b9cda4bf2605d6f3": {
          "model_module": "@jupyter-widgets/controls",
          "model_module_version": "1.5.0",
          "model_name": "HBoxModel",
          "state": {
            "_dom_classes": [],
            "_model_module": "@jupyter-widgets/controls",
            "_model_module_version": "1.5.0",
            "_model_name": "HBoxModel",
            "_view_count": null,
            "_view_module": "@jupyter-widgets/controls",
            "_view_module_version": "1.5.0",
            "_view_name": "HBoxView",
            "box_style": "",
            "children": [
              "IPY_MODEL_8489a3a5f15345e99fe31af96d391d07",
              "IPY_MODEL_07e658ec5ca74069875f19710e46c846",
              "IPY_MODEL_5e22cfd350da4ce3920fd849e46b2113"
            ],
            "layout": "IPY_MODEL_e4e26a527a604a8ea5cf6997a4e53908"
          }
        },
        "9a912a4e2aa8402f825cf8ca3a8f5098": {
          "model_module": "@jupyter-widgets/controls",
          "model_module_version": "1.5.0",
          "model_name": "DescriptionStyleModel",
          "state": {
            "_model_module": "@jupyter-widgets/controls",
            "_model_module_version": "1.5.0",
            "_model_name": "DescriptionStyleModel",
            "_view_count": null,
            "_view_module": "@jupyter-widgets/base",
            "_view_module_version": "1.2.0",
            "_view_name": "StyleView",
            "description_width": ""
          }
        },
        "a8fdbf46ee8349429ed280c165e87331": {
          "model_module": "@jupyter-widgets/controls",
          "model_module_version": "1.5.0",
          "model_name": "HBoxModel",
          "state": {
            "_dom_classes": [],
            "_model_module": "@jupyter-widgets/controls",
            "_model_module_version": "1.5.0",
            "_model_name": "HBoxModel",
            "_view_count": null,
            "_view_module": "@jupyter-widgets/controls",
            "_view_module_version": "1.5.0",
            "_view_name": "HBoxView",
            "box_style": "",
            "children": [
              "IPY_MODEL_abe211fbce994cd3bf7f14376a1308ab",
              "IPY_MODEL_c27eb72f107447fabbd0021314b40d6a",
              "IPY_MODEL_46e68dc88d864d6dab46626f7de4cb83"
            ],
            "layout": "IPY_MODEL_822f766ea3144ed9b24672ae527b14ea"
          }
        },
        "abe211fbce994cd3bf7f14376a1308ab": {
          "model_module": "@jupyter-widgets/controls",
          "model_module_version": "1.5.0",
          "model_name": "HTMLModel",
          "state": {
            "_dom_classes": [],
            "_model_module": "@jupyter-widgets/controls",
            "_model_module_version": "1.5.0",
            "_model_name": "HTMLModel",
            "_view_count": null,
            "_view_module": "@jupyter-widgets/controls",
            "_view_module_version": "1.5.0",
            "_view_name": "HTMLView",
            "description": "",
            "description_tooltip": null,
            "layout": "IPY_MODEL_ae10f5224e0540d6b4489927b8fb0a49",
            "placeholder": "​",
            "style": "IPY_MODEL_9a912a4e2aa8402f825cf8ca3a8f5098",
            "value": "README.md: 100%"
          }
        },
        "ac9d27cee7824708bd2ed1745c68f920": {
          "model_module": "@jupyter-widgets/controls",
          "model_module_version": "1.5.0",
          "model_name": "HTMLModel",
          "state": {
            "_dom_classes": [],
            "_model_module": "@jupyter-widgets/controls",
            "_model_module_version": "1.5.0",
            "_model_name": "HTMLModel",
            "_view_count": null,
            "_view_module": "@jupyter-widgets/controls",
            "_view_module_version": "1.5.0",
            "_view_name": "HTMLView",
            "description": "",
            "description_tooltip": null,
            "layout": "IPY_MODEL_1d77e5de23ff45949fd0397169f6bab8",
            "placeholder": "​",
            "style": "IPY_MODEL_30d5aff61e534dcc89a075b0373a1c7f",
            "value": "data/train-00000-of-00001.parquet: 100%"
          }
        },
        "ae10f5224e0540d6b4489927b8fb0a49": {
          "model_module": "@jupyter-widgets/base",
          "model_module_version": "1.2.0",
          "model_name": "LayoutModel",
          "state": {
            "_model_module": "@jupyter-widgets/base",
            "_model_module_version": "1.2.0",
            "_model_name": "LayoutModel",
            "_view_count": null,
            "_view_module": "@jupyter-widgets/base",
            "_view_module_version": "1.2.0",
            "_view_name": "LayoutView",
            "align_content": null,
            "align_items": null,
            "align_self": null,
            "border": null,
            "bottom": null,
            "display": null,
            "flex": null,
            "flex_flow": null,
            "grid_area": null,
            "grid_auto_columns": null,
            "grid_auto_flow": null,
            "grid_auto_rows": null,
            "grid_column": null,
            "grid_gap": null,
            "grid_row": null,
            "grid_template_areas": null,
            "grid_template_columns": null,
            "grid_template_rows": null,
            "height": null,
            "justify_content": null,
            "justify_items": null,
            "left": null,
            "margin": null,
            "max_height": null,
            "max_width": null,
            "min_height": null,
            "min_width": null,
            "object_fit": null,
            "object_position": null,
            "order": null,
            "overflow": null,
            "overflow_x": null,
            "overflow_y": null,
            "padding": null,
            "right": null,
            "top": null,
            "visibility": null,
            "width": null
          }
        },
        "af1e9bf0cdda489db0c593e07b648661": {
          "model_module": "@jupyter-widgets/base",
          "model_module_version": "1.2.0",
          "model_name": "LayoutModel",
          "state": {
            "_model_module": "@jupyter-widgets/base",
            "_model_module_version": "1.2.0",
            "_model_name": "LayoutModel",
            "_view_count": null,
            "_view_module": "@jupyter-widgets/base",
            "_view_module_version": "1.2.0",
            "_view_name": "LayoutView",
            "align_content": null,
            "align_items": null,
            "align_self": null,
            "border": null,
            "bottom": null,
            "display": null,
            "flex": null,
            "flex_flow": null,
            "grid_area": null,
            "grid_auto_columns": null,
            "grid_auto_flow": null,
            "grid_auto_rows": null,
            "grid_column": null,
            "grid_gap": null,
            "grid_row": null,
            "grid_template_areas": null,
            "grid_template_columns": null,
            "grid_template_rows": null,
            "height": null,
            "justify_content": null,
            "justify_items": null,
            "left": null,
            "margin": null,
            "max_height": null,
            "max_width": null,
            "min_height": null,
            "min_width": null,
            "object_fit": null,
            "object_position": null,
            "order": null,
            "overflow": null,
            "overflow_x": null,
            "overflow_y": null,
            "padding": null,
            "right": null,
            "top": null,
            "visibility": null,
            "width": null
          }
        },
        "af890a6332624574b52c72d35758c270": {
          "model_module": "@jupyter-widgets/base",
          "model_module_version": "1.2.0",
          "model_name": "LayoutModel",
          "state": {
            "_model_module": "@jupyter-widgets/base",
            "_model_module_version": "1.2.0",
            "_model_name": "LayoutModel",
            "_view_count": null,
            "_view_module": "@jupyter-widgets/base",
            "_view_module_version": "1.2.0",
            "_view_name": "LayoutView",
            "align_content": null,
            "align_items": null,
            "align_self": null,
            "border": null,
            "bottom": null,
            "display": null,
            "flex": null,
            "flex_flow": null,
            "grid_area": null,
            "grid_auto_columns": null,
            "grid_auto_flow": null,
            "grid_auto_rows": null,
            "grid_column": null,
            "grid_gap": null,
            "grid_row": null,
            "grid_template_areas": null,
            "grid_template_columns": null,
            "grid_template_rows": null,
            "height": null,
            "justify_content": null,
            "justify_items": null,
            "left": null,
            "margin": null,
            "max_height": null,
            "max_width": null,
            "min_height": null,
            "min_width": null,
            "object_fit": null,
            "object_position": null,
            "order": null,
            "overflow": null,
            "overflow_x": null,
            "overflow_y": null,
            "padding": null,
            "right": null,
            "top": null,
            "visibility": null,
            "width": null
          }
        },
        "c27eb72f107447fabbd0021314b40d6a": {
          "model_module": "@jupyter-widgets/controls",
          "model_module_version": "1.5.0",
          "model_name": "FloatProgressModel",
          "state": {
            "_dom_classes": [],
            "_model_module": "@jupyter-widgets/controls",
            "_model_module_version": "1.5.0",
            "_model_name": "FloatProgressModel",
            "_view_count": null,
            "_view_module": "@jupyter-widgets/controls",
            "_view_module_version": "1.5.0",
            "_view_name": "ProgressView",
            "bar_style": "success",
            "description": "",
            "description_tooltip": null,
            "layout": "IPY_MODEL_af890a6332624574b52c72d35758c270",
            "max": 4168,
            "min": 0,
            "orientation": "horizontal",
            "style": "IPY_MODEL_44223762c8434ba7ad3b4b9b68c576ad",
            "value": 4168
          }
        },
        "dd7951e5603f4a1590dcf87e234159e7": {
          "model_module": "@jupyter-widgets/base",
          "model_module_version": "1.2.0",
          "model_name": "LayoutModel",
          "state": {
            "_model_module": "@jupyter-widgets/base",
            "_model_module_version": "1.2.0",
            "_model_name": "LayoutModel",
            "_view_count": null,
            "_view_module": "@jupyter-widgets/base",
            "_view_module_version": "1.2.0",
            "_view_name": "LayoutView",
            "align_content": null,
            "align_items": null,
            "align_self": null,
            "border": null,
            "bottom": null,
            "display": null,
            "flex": null,
            "flex_flow": null,
            "grid_area": null,
            "grid_auto_columns": null,
            "grid_auto_flow": null,
            "grid_auto_rows": null,
            "grid_column": null,
            "grid_gap": null,
            "grid_row": null,
            "grid_template_areas": null,
            "grid_template_columns": null,
            "grid_template_rows": null,
            "height": null,
            "justify_content": null,
            "justify_items": null,
            "left": null,
            "margin": null,
            "max_height": null,
            "max_width": null,
            "min_height": null,
            "min_width": null,
            "object_fit": null,
            "object_position": null,
            "order": null,
            "overflow": null,
            "overflow_x": null,
            "overflow_y": null,
            "padding": null,
            "right": null,
            "top": null,
            "visibility": null,
            "width": null
          }
        },
        "e4e26a527a604a8ea5cf6997a4e53908": {
          "model_module": "@jupyter-widgets/base",
          "model_module_version": "1.2.0",
          "model_name": "LayoutModel",
          "state": {
            "_model_module": "@jupyter-widgets/base",
            "_model_module_version": "1.2.0",
            "_model_name": "LayoutModel",
            "_view_count": null,
            "_view_module": "@jupyter-widgets/base",
            "_view_module_version": "1.2.0",
            "_view_name": "LayoutView",
            "align_content": null,
            "align_items": null,
            "align_self": null,
            "border": null,
            "bottom": null,
            "display": null,
            "flex": null,
            "flex_flow": null,
            "grid_area": null,
            "grid_auto_columns": null,
            "grid_auto_flow": null,
            "grid_auto_rows": null,
            "grid_column": null,
            "grid_gap": null,
            "grid_row": null,
            "grid_template_areas": null,
            "grid_template_columns": null,
            "grid_template_rows": null,
            "height": null,
            "justify_content": null,
            "justify_items": null,
            "left": null,
            "margin": null,
            "max_height": null,
            "max_width": null,
            "min_height": null,
            "min_width": null,
            "object_fit": null,
            "object_position": null,
            "order": null,
            "overflow": null,
            "overflow_x": null,
            "overflow_y": null,
            "padding": null,
            "right": null,
            "top": null,
            "visibility": null,
            "width": null
          }
        },
        "e885351faf534fd0b57809661605ea28": {
          "model_module": "@jupyter-widgets/base",
          "model_module_version": "1.2.0",
          "model_name": "LayoutModel",
          "state": {
            "_model_module": "@jupyter-widgets/base",
            "_model_module_version": "1.2.0",
            "_model_name": "LayoutModel",
            "_view_count": null,
            "_view_module": "@jupyter-widgets/base",
            "_view_module_version": "1.2.0",
            "_view_name": "LayoutView",
            "align_content": null,
            "align_items": null,
            "align_self": null,
            "border": null,
            "bottom": null,
            "display": null,
            "flex": null,
            "flex_flow": null,
            "grid_area": null,
            "grid_auto_columns": null,
            "grid_auto_flow": null,
            "grid_auto_rows": null,
            "grid_column": null,
            "grid_gap": null,
            "grid_row": null,
            "grid_template_areas": null,
            "grid_template_columns": null,
            "grid_template_rows": null,
            "height": null,
            "justify_content": null,
            "justify_items": null,
            "left": null,
            "margin": null,
            "max_height": null,
            "max_width": null,
            "min_height": null,
            "min_width": null,
            "object_fit": null,
            "object_position": null,
            "order": null,
            "overflow": null,
            "overflow_x": null,
            "overflow_y": null,
            "padding": null,
            "right": null,
            "top": null,
            "visibility": null,
            "width": null
          }
        }
      }
    }
  },
  "nbformat": 4,
  "nbformat_minor": 0
}
